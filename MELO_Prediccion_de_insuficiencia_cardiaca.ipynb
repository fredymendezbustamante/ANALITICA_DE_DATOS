{
  "nbformat": 4,
  "nbformat_minor": 0,
  "metadata": {
    "colab": {
      "name": "MELO_Prediccion_de_insuficiencia_cardiaca.ipynb",
      "provenance": [],
      "collapsed_sections": [],
      "include_colab_link": true
    },
    "kernelspec": {
      "name": "python3",
      "display_name": "Python 3"
    }
  },
  "cells": [
    {
      "cell_type": "markdown",
      "metadata": {
        "id": "view-in-github",
        "colab_type": "text"
      },
      "source": [
        "<a href=\"https://colab.research.google.com/github/fredymendezbustamante/ANALITICA_DE_DATOS/blob/main/MELO_Prediccion_de_insuficiencia_cardiaca.ipynb\" target=\"_parent\"><img src=\"https://colab.research.google.com/assets/colab-badge.svg\" alt=\"Open In Colab\"/></a>"
      ]
    },
    {
      "cell_type": "code",
      "metadata": {
        "id": "49ZUKd29Tflq",
        "outputId": "b90952c7-495c-44c3-dba6-5fc9d88e2ceb",
        "colab": {
          "base_uri": "https://localhost:8080/",
          "height": 581
        }
      },
      "source": [
        "#cargar datos desde drive acceso libre\n",
        "FILEID = \"1Fx8V-8KUcatpoR7VQBlr-rHJNlXnfKIT\"\n",
        "!wget --load-cookies /tmp/cookies.txt \"https://docs.google.com/uc?export=download&confirm=$(wget --quiet --save-cookies /tmp/cookies.txt --keep-session-cookies --no-check-certificate 'https://docs.google.com/uc?export=download&id='$FILEID -O- | sed -rn 's/.*confirm=([0-9A-Za-z_]+).*/\\1\\n/p')&id=\"$FILEID -O codigos.zip && rm -rf /tmp/cookies.txt\n",
        "!unzip codigos.zip\n",
        "!dir"
      ],
      "execution_count": 227,
      "outputs": [
        {
          "output_type": "stream",
          "text": [
            "--2020-10-17 06:35:36--  https://docs.google.com/uc?export=download&confirm=&id=1Fx8V-8KUcatpoR7VQBlr-rHJNlXnfKIT\n",
            "Resolving docs.google.com (docs.google.com)... 173.194.217.100, 173.194.217.138, 173.194.217.113, ...\n",
            "Connecting to docs.google.com (docs.google.com)|173.194.217.100|:443... connected.\n",
            "HTTP request sent, awaiting response... 302 Moved Temporarily\n",
            "Location: https://doc-10-2o-docs.googleusercontent.com/docs/securesc/oujvise291bu12vjuauv454c13pbsq5p/8oi7fobsonkdc9idgnt610opcu4l28f5/1602916500000/11461795404018529722/00299158186470066699Z/1Fx8V-8KUcatpoR7VQBlr-rHJNlXnfKIT?e=download [following]\n",
            "--2020-10-17 06:35:36--  https://doc-10-2o-docs.googleusercontent.com/docs/securesc/oujvise291bu12vjuauv454c13pbsq5p/8oi7fobsonkdc9idgnt610opcu4l28f5/1602916500000/11461795404018529722/00299158186470066699Z/1Fx8V-8KUcatpoR7VQBlr-rHJNlXnfKIT?e=download\n",
            "Resolving doc-10-2o-docs.googleusercontent.com (doc-10-2o-docs.googleusercontent.com)... 142.250.98.132, 2607:f8b0:400c:c1a::84\n",
            "Connecting to doc-10-2o-docs.googleusercontent.com (doc-10-2o-docs.googleusercontent.com)|142.250.98.132|:443... connected.\n",
            "HTTP request sent, awaiting response... 302 Found\n",
            "Location: https://docs.google.com/nonceSigner?nonce=d3bke5i2ev8hg&continue=https://doc-10-2o-docs.googleusercontent.com/docs/securesc/oujvise291bu12vjuauv454c13pbsq5p/8oi7fobsonkdc9idgnt610opcu4l28f5/1602916500000/11461795404018529722/00299158186470066699Z/1Fx8V-8KUcatpoR7VQBlr-rHJNlXnfKIT?e%3Ddownload&hash=21n5utgg042ipi2p6aneki7h9gv4ak7l [following]\n",
            "--2020-10-17 06:35:36--  https://docs.google.com/nonceSigner?nonce=d3bke5i2ev8hg&continue=https://doc-10-2o-docs.googleusercontent.com/docs/securesc/oujvise291bu12vjuauv454c13pbsq5p/8oi7fobsonkdc9idgnt610opcu4l28f5/1602916500000/11461795404018529722/00299158186470066699Z/1Fx8V-8KUcatpoR7VQBlr-rHJNlXnfKIT?e%3Ddownload&hash=21n5utgg042ipi2p6aneki7h9gv4ak7l\n",
            "Connecting to docs.google.com (docs.google.com)|173.194.217.100|:443... connected.\n",
            "HTTP request sent, awaiting response... 302 Found\n",
            "Location: https://doc-10-2o-docs.googleusercontent.com/docs/securesc/oujvise291bu12vjuauv454c13pbsq5p/8oi7fobsonkdc9idgnt610opcu4l28f5/1602916500000/11461795404018529722/00299158186470066699Z/1Fx8V-8KUcatpoR7VQBlr-rHJNlXnfKIT?e=download&nonce=d3bke5i2ev8hg&user=00299158186470066699Z&hash=43u8eii77gjpsoif1ckf32frfb8r7i58 [following]\n",
            "--2020-10-17 06:35:36--  https://doc-10-2o-docs.googleusercontent.com/docs/securesc/oujvise291bu12vjuauv454c13pbsq5p/8oi7fobsonkdc9idgnt610opcu4l28f5/1602916500000/11461795404018529722/00299158186470066699Z/1Fx8V-8KUcatpoR7VQBlr-rHJNlXnfKIT?e=download&nonce=d3bke5i2ev8hg&user=00299158186470066699Z&hash=43u8eii77gjpsoif1ckf32frfb8r7i58\n",
            "Connecting to doc-10-2o-docs.googleusercontent.com (doc-10-2o-docs.googleusercontent.com)|142.250.98.132|:443... connected.\n",
            "HTTP request sent, awaiting response... 200 OK\n",
            "Length: 4067 (4.0K) [application/x-zip-compressed]\n",
            "Saving to: ‘codigos.zip’\n",
            "\n",
            "codigos.zip         100%[===================>]   3.97K  --.-KB/s    in 0s      \n",
            "\n",
            "2020-10-17 06:35:36 (30.6 MB/s) - ‘codigos.zip’ saved [4067/4067]\n",
            "\n",
            "Archive:  codigos.zip\n",
            "replace heart_failure_clinical_records_dataset.csv? [y]es, [n]o, [A]ll, [N]one, [r]ename: A\n",
            "  inflating: heart_failure_clinical_records_dataset.csv  \n",
            "2020_10_17_06_35_17__modelo.zip\t\t    precesado_data\n",
            "codigos.zip\t\t\t\t    resultados\n",
            "datospre\t\t\t\t    results\n",
            "death.joblib\t\t\t\t    sample_data\n",
            "heart_failure_clinical_records_dataset.csv  smokingpincardi.joblib\n"
          ],
          "name": "stdout"
        }
      ]
    },
    {
      "cell_type": "markdown",
      "metadata": {
        "id": "B2NnQ7tvLKLC"
      },
      "source": [
        "# Inicio códigos\n",
        "\n",
        "**Preparar modulos principales, funciones inline, paths para guardar archivos y figuras:**\n"
      ]
    },
    {
      "cell_type": "code",
      "metadata": {
        "id": "AGiyZCJXVxcw",
        "outputId": "0c4744ee-149e-49a1-818c-b09797abead2",
        "colab": {
          "base_uri": "https://localhost:8080/",
          "height": 34
        }
      },
      "source": [
        "# To support both python 2 and python 3\n",
        "from __future__ import division, print_function, unicode_literals\n",
        "\n",
        "# Common imports\n",
        "import numpy as np\n",
        "import os\n",
        "\n",
        "# to make this notebook's output stable across runs\n",
        "np.random.seed(42)\n",
        "\n",
        "\n",
        "\n",
        "\n",
        "\n",
        "# To plot pretty figures\n",
        "# magic function to render figure\n",
        "%matplotlib inline \n",
        "import matplotlib as mpl\n",
        "import matplotlib.pyplot as plt\n",
        "mpl.rc('axes', labelsize=14)\n",
        "mpl.rc('xtick', labelsize=12)\n",
        "mpl.rc('ytick', labelsize=12)\n",
        "\n",
        "from sklearn.impute import SimpleImputer \n",
        "from sklearn.model_selection import train_test_split, GridSearchCV,cross_val_score, cross_val_predict\n",
        "from sklearn.metrics import mean_absolute_error\n",
        "from sklearn.pipeline import Pipeline\n",
        "\n",
        "#crear carpeta con resultados\n",
        "import os\n",
        "try:\n",
        "  os.mkdir('results')\n",
        "except:\n",
        "  print(\"Carpeta results ya existe\")\n",
        "\n",
        "import warnings\n",
        "warnings.filterwarnings(action=\"ignore\", message=\"^internal gelsd\")\n",
        "import plotly.figure_factory as ff\n",
        "import plotly.graph_objs as go\n",
        "import plotly.express as px\n"
      ],
      "execution_count": 228,
      "outputs": [
        {
          "output_type": "stream",
          "text": [
            "Carpeta results ya existe\n"
          ],
          "name": "stdout"
        }
      ]
    },
    {
      "cell_type": "code",
      "metadata": {
        "id": "pcI4Uo6GKjre"
      },
      "source": [
        ""
      ],
      "execution_count": 228,
      "outputs": []
    },
    {
      "cell_type": "code",
      "metadata": {
        "id": "Kup_9ZSyzCCi"
      },
      "source": [
        ""
      ],
      "execution_count": 228,
      "outputs": []
    },
    {
      "cell_type": "markdown",
      "metadata": {
        "id": "YFTOqBZtOa4s"
      },
      "source": [
        "# Obtener los datos"
      ]
    },
    {
      "cell_type": "code",
      "metadata": {
        "id": "nc0qjfHNd8v4",
        "outputId": "d61fa78f-fac4-4e87-f9af-2080fa9d5e37",
        "colab": {
          "base_uri": "https://localhost:8080/",
          "height": 689
        }
      },
      "source": [
        "import pandas as pd\n",
        "%matplotlib inline\n",
        "csv_analisispredictorio = 'heart_failure_clinical_records_dataset.csv'\n",
        "pincardi= pd.read_csv(csv_analisispredictorio)   \n",
        "pincardi.head(20) "
      ],
      "execution_count": 229,
      "outputs": [
        {
          "output_type": "execute_result",
          "data": {
            "text/html": [
              "<div>\n",
              "<style scoped>\n",
              "    .dataframe tbody tr th:only-of-type {\n",
              "        vertical-align: middle;\n",
              "    }\n",
              "\n",
              "    .dataframe tbody tr th {\n",
              "        vertical-align: top;\n",
              "    }\n",
              "\n",
              "    .dataframe thead th {\n",
              "        text-align: right;\n",
              "    }\n",
              "</style>\n",
              "<table border=\"1\" class=\"dataframe\">\n",
              "  <thead>\n",
              "    <tr style=\"text-align: right;\">\n",
              "      <th></th>\n",
              "      <th>age</th>\n",
              "      <th>anaemia</th>\n",
              "      <th>creatinine_phosphokinase</th>\n",
              "      <th>diabetes</th>\n",
              "      <th>ejection_fraction</th>\n",
              "      <th>high_blood_pressure</th>\n",
              "      <th>platelets</th>\n",
              "      <th>serum_creatinine</th>\n",
              "      <th>serum_sodium</th>\n",
              "      <th>sex</th>\n",
              "      <th>smoking</th>\n",
              "      <th>time</th>\n",
              "      <th>DEATH_EVENT</th>\n",
              "    </tr>\n",
              "  </thead>\n",
              "  <tbody>\n",
              "    <tr>\n",
              "      <th>0</th>\n",
              "      <td>75.0</td>\n",
              "      <td>0</td>\n",
              "      <td>582</td>\n",
              "      <td>0</td>\n",
              "      <td>20</td>\n",
              "      <td>1</td>\n",
              "      <td>265000.00</td>\n",
              "      <td>1.9</td>\n",
              "      <td>130</td>\n",
              "      <td>1</td>\n",
              "      <td>0</td>\n",
              "      <td>4</td>\n",
              "      <td>1</td>\n",
              "    </tr>\n",
              "    <tr>\n",
              "      <th>1</th>\n",
              "      <td>55.0</td>\n",
              "      <td>0</td>\n",
              "      <td>7861</td>\n",
              "      <td>0</td>\n",
              "      <td>38</td>\n",
              "      <td>0</td>\n",
              "      <td>263358.03</td>\n",
              "      <td>1.1</td>\n",
              "      <td>136</td>\n",
              "      <td>1</td>\n",
              "      <td>0</td>\n",
              "      <td>6</td>\n",
              "      <td>1</td>\n",
              "    </tr>\n",
              "    <tr>\n",
              "      <th>2</th>\n",
              "      <td>65.0</td>\n",
              "      <td>0</td>\n",
              "      <td>146</td>\n",
              "      <td>0</td>\n",
              "      <td>20</td>\n",
              "      <td>0</td>\n",
              "      <td>162000.00</td>\n",
              "      <td>1.3</td>\n",
              "      <td>129</td>\n",
              "      <td>1</td>\n",
              "      <td>1</td>\n",
              "      <td>7</td>\n",
              "      <td>1</td>\n",
              "    </tr>\n",
              "    <tr>\n",
              "      <th>3</th>\n",
              "      <td>50.0</td>\n",
              "      <td>1</td>\n",
              "      <td>111</td>\n",
              "      <td>0</td>\n",
              "      <td>20</td>\n",
              "      <td>0</td>\n",
              "      <td>210000.00</td>\n",
              "      <td>1.9</td>\n",
              "      <td>137</td>\n",
              "      <td>1</td>\n",
              "      <td>0</td>\n",
              "      <td>7</td>\n",
              "      <td>1</td>\n",
              "    </tr>\n",
              "    <tr>\n",
              "      <th>4</th>\n",
              "      <td>65.0</td>\n",
              "      <td>1</td>\n",
              "      <td>160</td>\n",
              "      <td>1</td>\n",
              "      <td>20</td>\n",
              "      <td>0</td>\n",
              "      <td>327000.00</td>\n",
              "      <td>2.7</td>\n",
              "      <td>116</td>\n",
              "      <td>0</td>\n",
              "      <td>0</td>\n",
              "      <td>8</td>\n",
              "      <td>1</td>\n",
              "    </tr>\n",
              "    <tr>\n",
              "      <th>5</th>\n",
              "      <td>90.0</td>\n",
              "      <td>1</td>\n",
              "      <td>47</td>\n",
              "      <td>0</td>\n",
              "      <td>40</td>\n",
              "      <td>1</td>\n",
              "      <td>204000.00</td>\n",
              "      <td>2.1</td>\n",
              "      <td>132</td>\n",
              "      <td>1</td>\n",
              "      <td>1</td>\n",
              "      <td>8</td>\n",
              "      <td>1</td>\n",
              "    </tr>\n",
              "    <tr>\n",
              "      <th>6</th>\n",
              "      <td>75.0</td>\n",
              "      <td>1</td>\n",
              "      <td>246</td>\n",
              "      <td>0</td>\n",
              "      <td>15</td>\n",
              "      <td>0</td>\n",
              "      <td>127000.00</td>\n",
              "      <td>1.2</td>\n",
              "      <td>137</td>\n",
              "      <td>1</td>\n",
              "      <td>0</td>\n",
              "      <td>10</td>\n",
              "      <td>1</td>\n",
              "    </tr>\n",
              "    <tr>\n",
              "      <th>7</th>\n",
              "      <td>60.0</td>\n",
              "      <td>1</td>\n",
              "      <td>315</td>\n",
              "      <td>1</td>\n",
              "      <td>60</td>\n",
              "      <td>0</td>\n",
              "      <td>454000.00</td>\n",
              "      <td>1.1</td>\n",
              "      <td>131</td>\n",
              "      <td>1</td>\n",
              "      <td>1</td>\n",
              "      <td>10</td>\n",
              "      <td>1</td>\n",
              "    </tr>\n",
              "    <tr>\n",
              "      <th>8</th>\n",
              "      <td>65.0</td>\n",
              "      <td>0</td>\n",
              "      <td>157</td>\n",
              "      <td>0</td>\n",
              "      <td>65</td>\n",
              "      <td>0</td>\n",
              "      <td>263358.03</td>\n",
              "      <td>1.5</td>\n",
              "      <td>138</td>\n",
              "      <td>0</td>\n",
              "      <td>0</td>\n",
              "      <td>10</td>\n",
              "      <td>1</td>\n",
              "    </tr>\n",
              "    <tr>\n",
              "      <th>9</th>\n",
              "      <td>80.0</td>\n",
              "      <td>1</td>\n",
              "      <td>123</td>\n",
              "      <td>0</td>\n",
              "      <td>35</td>\n",
              "      <td>1</td>\n",
              "      <td>388000.00</td>\n",
              "      <td>9.4</td>\n",
              "      <td>133</td>\n",
              "      <td>1</td>\n",
              "      <td>1</td>\n",
              "      <td>10</td>\n",
              "      <td>1</td>\n",
              "    </tr>\n",
              "    <tr>\n",
              "      <th>10</th>\n",
              "      <td>75.0</td>\n",
              "      <td>1</td>\n",
              "      <td>81</td>\n",
              "      <td>0</td>\n",
              "      <td>38</td>\n",
              "      <td>1</td>\n",
              "      <td>368000.00</td>\n",
              "      <td>4.0</td>\n",
              "      <td>131</td>\n",
              "      <td>1</td>\n",
              "      <td>1</td>\n",
              "      <td>10</td>\n",
              "      <td>1</td>\n",
              "    </tr>\n",
              "    <tr>\n",
              "      <th>11</th>\n",
              "      <td>62.0</td>\n",
              "      <td>0</td>\n",
              "      <td>231</td>\n",
              "      <td>0</td>\n",
              "      <td>25</td>\n",
              "      <td>1</td>\n",
              "      <td>253000.00</td>\n",
              "      <td>0.9</td>\n",
              "      <td>140</td>\n",
              "      <td>1</td>\n",
              "      <td>1</td>\n",
              "      <td>10</td>\n",
              "      <td>1</td>\n",
              "    </tr>\n",
              "    <tr>\n",
              "      <th>12</th>\n",
              "      <td>45.0</td>\n",
              "      <td>1</td>\n",
              "      <td>981</td>\n",
              "      <td>0</td>\n",
              "      <td>30</td>\n",
              "      <td>0</td>\n",
              "      <td>136000.00</td>\n",
              "      <td>1.1</td>\n",
              "      <td>137</td>\n",
              "      <td>1</td>\n",
              "      <td>0</td>\n",
              "      <td>11</td>\n",
              "      <td>1</td>\n",
              "    </tr>\n",
              "    <tr>\n",
              "      <th>13</th>\n",
              "      <td>50.0</td>\n",
              "      <td>1</td>\n",
              "      <td>168</td>\n",
              "      <td>0</td>\n",
              "      <td>38</td>\n",
              "      <td>1</td>\n",
              "      <td>276000.00</td>\n",
              "      <td>1.1</td>\n",
              "      <td>137</td>\n",
              "      <td>1</td>\n",
              "      <td>0</td>\n",
              "      <td>11</td>\n",
              "      <td>1</td>\n",
              "    </tr>\n",
              "    <tr>\n",
              "      <th>14</th>\n",
              "      <td>49.0</td>\n",
              "      <td>1</td>\n",
              "      <td>80</td>\n",
              "      <td>0</td>\n",
              "      <td>30</td>\n",
              "      <td>1</td>\n",
              "      <td>427000.00</td>\n",
              "      <td>1.0</td>\n",
              "      <td>138</td>\n",
              "      <td>0</td>\n",
              "      <td>0</td>\n",
              "      <td>12</td>\n",
              "      <td>0</td>\n",
              "    </tr>\n",
              "    <tr>\n",
              "      <th>15</th>\n",
              "      <td>82.0</td>\n",
              "      <td>1</td>\n",
              "      <td>379</td>\n",
              "      <td>0</td>\n",
              "      <td>50</td>\n",
              "      <td>0</td>\n",
              "      <td>47000.00</td>\n",
              "      <td>1.3</td>\n",
              "      <td>136</td>\n",
              "      <td>1</td>\n",
              "      <td>0</td>\n",
              "      <td>13</td>\n",
              "      <td>1</td>\n",
              "    </tr>\n",
              "    <tr>\n",
              "      <th>16</th>\n",
              "      <td>87.0</td>\n",
              "      <td>1</td>\n",
              "      <td>149</td>\n",
              "      <td>0</td>\n",
              "      <td>38</td>\n",
              "      <td>0</td>\n",
              "      <td>262000.00</td>\n",
              "      <td>0.9</td>\n",
              "      <td>140</td>\n",
              "      <td>1</td>\n",
              "      <td>0</td>\n",
              "      <td>14</td>\n",
              "      <td>1</td>\n",
              "    </tr>\n",
              "    <tr>\n",
              "      <th>17</th>\n",
              "      <td>45.0</td>\n",
              "      <td>0</td>\n",
              "      <td>582</td>\n",
              "      <td>0</td>\n",
              "      <td>14</td>\n",
              "      <td>0</td>\n",
              "      <td>166000.00</td>\n",
              "      <td>0.8</td>\n",
              "      <td>127</td>\n",
              "      <td>1</td>\n",
              "      <td>0</td>\n",
              "      <td>14</td>\n",
              "      <td>1</td>\n",
              "    </tr>\n",
              "    <tr>\n",
              "      <th>18</th>\n",
              "      <td>70.0</td>\n",
              "      <td>1</td>\n",
              "      <td>125</td>\n",
              "      <td>0</td>\n",
              "      <td>25</td>\n",
              "      <td>1</td>\n",
              "      <td>237000.00</td>\n",
              "      <td>1.0</td>\n",
              "      <td>140</td>\n",
              "      <td>0</td>\n",
              "      <td>0</td>\n",
              "      <td>15</td>\n",
              "      <td>1</td>\n",
              "    </tr>\n",
              "    <tr>\n",
              "      <th>19</th>\n",
              "      <td>48.0</td>\n",
              "      <td>1</td>\n",
              "      <td>582</td>\n",
              "      <td>1</td>\n",
              "      <td>55</td>\n",
              "      <td>0</td>\n",
              "      <td>87000.00</td>\n",
              "      <td>1.9</td>\n",
              "      <td>121</td>\n",
              "      <td>0</td>\n",
              "      <td>0</td>\n",
              "      <td>15</td>\n",
              "      <td>1</td>\n",
              "    </tr>\n",
              "  </tbody>\n",
              "</table>\n",
              "</div>"
            ],
            "text/plain": [
              "     age  anaemia  creatinine_phosphokinase  ...  smoking  time  DEATH_EVENT\n",
              "0   75.0        0                       582  ...        0     4            1\n",
              "1   55.0        0                      7861  ...        0     6            1\n",
              "2   65.0        0                       146  ...        1     7            1\n",
              "3   50.0        1                       111  ...        0     7            1\n",
              "4   65.0        1                       160  ...        0     8            1\n",
              "5   90.0        1                        47  ...        1     8            1\n",
              "6   75.0        1                       246  ...        0    10            1\n",
              "7   60.0        1                       315  ...        1    10            1\n",
              "8   65.0        0                       157  ...        0    10            1\n",
              "9   80.0        1                       123  ...        1    10            1\n",
              "10  75.0        1                        81  ...        1    10            1\n",
              "11  62.0        0                       231  ...        1    10            1\n",
              "12  45.0        1                       981  ...        0    11            1\n",
              "13  50.0        1                       168  ...        0    11            1\n",
              "14  49.0        1                        80  ...        0    12            0\n",
              "15  82.0        1                       379  ...        0    13            1\n",
              "16  87.0        1                       149  ...        0    14            1\n",
              "17  45.0        0                       582  ...        0    14            1\n",
              "18  70.0        1                       125  ...        0    15            1\n",
              "19  48.0        1                       582  ...        0    15            1\n",
              "\n",
              "[20 rows x 13 columns]"
            ]
          },
          "metadata": {
            "tags": []
          },
          "execution_count": 229
        }
      ]
    },
    {
      "cell_type": "markdown",
      "metadata": {
        "id": "9fYHXmkr0vBa"
      },
      "source": [
        "* Sex - sexo del paciente   hombre=> 1, mujer =>0\n",
        "\n",
        "* Age - año del paciente\n",
        "\n",
        "* Diabetes - 0 => No, 1 => si\n",
        "\n",
        "* Anaemia - 0 => No, 1 => si\n",
        "\n",
        "* High_blood_pressure - 0 => No, 1 => si\n",
        "\n",
        "* Smoking - 0 => No, 1 => si\n",
        "\n",
        "* DEATH_EVENT - 0 => No, 1 => si"
      ]
    },
    {
      "cell_type": "markdown",
      "metadata": {
        "id": "3e9dP12COugQ"
      },
      "source": [
        "# Análisis exploratorio básico\n"
      ]
    },
    {
      "cell_type": "code",
      "metadata": {
        "id": "GtVRZL3lOwmW",
        "outputId": "a16b1168-0880-4321-fec4-8ea4d964c0d6",
        "colab": {
          "base_uri": "https://localhost:8080/",
          "height": 357
        }
      },
      "source": [
        "pincardi.info()\n",
        "\n"
      ],
      "execution_count": 230,
      "outputs": [
        {
          "output_type": "stream",
          "text": [
            "<class 'pandas.core.frame.DataFrame'>\n",
            "RangeIndex: 299 entries, 0 to 298\n",
            "Data columns (total 13 columns):\n",
            " #   Column                    Non-Null Count  Dtype  \n",
            "---  ------                    --------------  -----  \n",
            " 0   age                       299 non-null    float64\n",
            " 1   anaemia                   299 non-null    int64  \n",
            " 2   creatinine_phosphokinase  299 non-null    int64  \n",
            " 3   diabetes                  299 non-null    int64  \n",
            " 4   ejection_fraction         299 non-null    int64  \n",
            " 5   high_blood_pressure       299 non-null    int64  \n",
            " 6   platelets                 299 non-null    float64\n",
            " 7   serum_creatinine          299 non-null    float64\n",
            " 8   serum_sodium              299 non-null    int64  \n",
            " 9   sex                       299 non-null    int64  \n",
            " 10  smoking                   299 non-null    int64  \n",
            " 11  time                      299 non-null    int64  \n",
            " 12  DEATH_EVENT               299 non-null    int64  \n",
            "dtypes: float64(3), int64(10)\n",
            "memory usage: 30.5 KB\n"
          ],
          "name": "stdout"
        }
      ]
    },
    {
      "cell_type": "code",
      "metadata": {
        "id": "ipOLPHQ2RTcY"
      },
      "source": [
        "# paso 2: partición entrenamiento y validacion.\n",
        "# tamañ0 Xtrain 70%, Tamaño Xtest 30%.\n",
        "#en mi caso el analisis de datos esta adecuada para hace \n",
        "# un buen analisis,no es conveniente codificar,pero si se debe hacer particion de entrenamiento y validación.\n",
        "\n",
        "import warnings\n",
        "warnings.filterwarnings(\"ignore\")\n",
        "\n",
        "from sklearn.model_selection import train_test_split\n",
        "Xtrain, Xtest = train_test_split(pincardi,test_size=0.3)\n",
        "col_smoke = \"smoking\"\n",
        "ytrain = Xtrain[col_smoke]\n",
        "ytest = Xtest[col_smoke]\n",
        "Xtrain.drop(columns=col_smoke,inplace=True)\n",
        "Xtest.drop(columns=col_smoke,inplace= True)\n",
        "\n",
        "\n",
        "\n",
        "\n"
      ],
      "execution_count": 231,
      "outputs": []
    },
    {
      "cell_type": "code",
      "metadata": {
        "id": "jFiJy5NvSb9v",
        "outputId": "cd07beb7-58f8-4832-8bb7-c78534bba162",
        "colab": {
          "base_uri": "https://localhost:8080/",
          "height": 34
        }
      },
      "source": [
        "from sklearn.impute import SimpleImputer\n",
        "imputer = SimpleImputer(strategy=\"most_frequent\")\n",
        "ytrain = imputer.fit_transform(pd.DataFrame(ytrain))\n",
        "ytrain = ytrain.reshape(-1)\n",
        "\n",
        "ytest = imputer.transform(pd.DataFrame(ytest))\n",
        "ytest = ytest.reshape(-1)\n",
        "\n",
        "print(ytrain.shape,ytest.shape)\n"
      ],
      "execution_count": 232,
      "outputs": [
        {
          "output_type": "stream",
          "text": [
            "(209,) (90,)\n"
          ],
          "name": "stdout"
        }
      ]
    },
    {
      "cell_type": "code",
      "metadata": {
        "id": "gFf4-MAbRyTG",
        "outputId": "ffa734d9-45db-4ee5-a2d5-b94f1f64dbfc",
        "colab": {
          "base_uri": "https://localhost:8080/",
          "height": 34
        }
      },
      "source": [
        "#codificar la salida\n",
        "#en este caso no hay necesidad de codificar,pues los datos estan\n",
        "#organizados y nos ahorramos esa parte...\n",
        "# 1-->fuma y 0-->no fuma\n",
        "ytrain[:4]"
      ],
      "execution_count": 233,
      "outputs": [
        {
          "output_type": "execute_result",
          "data": {
            "text/plain": [
              "array([0, 0, 1, 0])"
            ]
          },
          "metadata": {
            "tags": []
          },
          "execution_count": 233
        }
      ]
    },
    {
      "cell_type": "code",
      "metadata": {
        "id": "rYH501MXJoF3",
        "outputId": "f634be38-94cf-4d6a-c75a-5afa23a4b3b9",
        "colab": {
          "base_uri": "https://localhost:8080/",
          "height": 34
        }
      },
      "source": [
        "ytest[:4]"
      ],
      "execution_count": 234,
      "outputs": [
        {
          "output_type": "execute_result",
          "data": {
            "text/plain": [
              "array([1, 1, 0, 1])"
            ]
          },
          "metadata": {
            "tags": []
          },
          "execution_count": 234
        }
      ]
    },
    {
      "cell_type": "code",
      "metadata": {
        "id": "9VDAGcw1J3GD",
        "outputId": "9a522734-e73f-4265-8b6a-5323683dc7ab",
        "colab": {
          "base_uri": "https://localhost:8080/",
          "height": 519
        }
      },
      "source": [
        "import matplotlib.pyplot as plt\n",
        "plt.hist(ytrain,bins=200)\n",
        "plt.show()\n",
        "\n",
        "plt.boxplot(ytrain)\n",
        "plt.show()\n",
        "\n",
        "#podemos deducur que hay mas gente que no fuma,pero este dato no es SUFICIENTE PARA GENERAR UNA PRECDICCION MAS CERTERA.\n",
        "#POR ESO ANALICE ESTE CASO, HACIENDO GRAFICAS DE PROBABILIDAD DESCRIPTIVA PARA ENTENDER MEJOR MIS VARIABLES DE INTERES."
      ],
      "execution_count": 235,
      "outputs": [
        {
          "output_type": "display_data",
          "data": {
            "image/png": "[encoded data removed]",
            "text/plain": [
              "<Figure size 432x288 with 1 Axes>"
            ]
          },
          "metadata": {
            "tags": [],
            "needs_background": "light"
          }
        },
        {
          "output_type": "display_data",
          "data": {
            "image/png": "[encoded data removed]",
            "text/plain": [
              "<Figure size 432x288 with 1 Axes>"
            ]
          },
          "metadata": {
            "tags": [],
            "needs_background": "light"
          }
        }
      ]
    },
    {
      "cell_type": "markdown",
      "metadata": {
        "id": "TqMPnZ9PCUOb"
      },
      "source": [
        "## 1).los fumadores y el sexo de una persona es un indicador de los eventos de muerte."
      ]
    },
    {
      "cell_type": "code",
      "metadata": {
        "id": "98KWF9W3CqdP",
        "outputId": "e21d9df2-83b3-4293-aa53-f3f3b7b0d18b",
        "colab": {
          "base_uri": "https://localhost:8080/",
          "height": 542
        }
      },
      "source": [
        "'''vamos a interesarnos por la segunda opcion,pues una de la mayoria de las fallas que \n",
        "ocurre en el corazon, son a raiz del consumo del tabaco, este es uno de los\n",
        "grandes problemas que afectan a las personas y puede ser de los que consumen\n",
        "el tabaco tengan mas decesos de muerte que los otros,por eso lo analizaresmos.'''\n",
        "\n",
        "\n",
        "fig =px.violin(pincardi, y=\"age\", x=\"smoking\",color=\"DEATH_EVENT\",box= True, points=\"all\",hover_data= pincardi.columns )\n",
        "\n",
        "fig.update_layout(title_text = \"Analisis edad y fumadores- mueren o sobreviven\")\n",
        "\n",
        "fig.show()"
      ],
      "execution_count": 236,
      "outputs": [
        {
          "output_type": "display_data",
          "data": {
            "text/html": [
              "<html>\n",
              "<head><meta charset=\"utf-8\" /></head>\n",
              "<body>\n",
              "    <div>\n",
              "            <script src=\"https://cdnjs.cloudflare.com/ajax/libs/mathjax/2.7.5/MathJax.js?config=TeX-AMS-MML_SVG\"></script><script type=\"text/javascript\">if (window.MathJax) {MathJax.Hub.Config({SVG: {font: \"STIX-Web\"}});}</script>\n",
              "                <script type=\"text/javascript\">window.PlotlyConfig = {MathJaxConfig: 'local'};</script>\n",
              "        <script src=\"https://cdn.plot.ly/plotly-latest.min.js\"></script>    \n",
              "            <div id=\"9c79b1b3-6dfe-4029-9141-5b7ccb087136\" class=\"plotly-graph-div\" style=\"height:525px; width:100%;\"></div>\n",
              "            <script type=\"text/javascript\">\n",
              "                \n",
              "                    window.PLOTLYENV=window.PLOTLYENV || {};\n",
              "                    \n",
              "                if (document.getElementById(\"9c79b1b3-6dfe-4029-9141-5b7ccb087136\")) {\n",
              "                    Plotly.newPlot(\n",
              "                        '9c79b1b3-6dfe-4029-9141-5b7ccb087136',\n",
              "                        [{\"alignmentgroup\": \"True\", \"box\": {\"visible\": true}, \"customdata\": [[75.0, 0.0, 582.0, 0.0, 20.0, 1.0, 265000.0, 1.9, 130.0, 1.0, 0.0, 4.0, 1.0], [55.0, 0.0, 7861.0, 0.0, 38.0, 0.0, 263358.03, 1.1, 136.0, 1.0, 0.0, 6.0, 1.0], [65.0, 0.0, 146.0, 0.0, 20.0, 0.0, 162000.0, 1.3, 129.0, 1.0, 1.0, 7.0, 1.0], [50.0, 1.0, 111.0, 0.0, 20.0, 0.0, 210000.0, 1.9, 137.0, 1.0, 0.0, 7.0, 1.0], [65.0, 1.0, 160.0, 1.0, 20.0, 0.0, 327000.0, 2.7, 116.0, 0.0, 0.0, 8.0, 1.0], [90.0, 1.0, 47.0, 0.0, 40.0, 1.0, 204000.0, 2.1, 132.0, 1.0, 1.0, 8.0, 1.0], [75.0, 1.0, 246.0, 0.0, 15.0, 0.0, 127000.0, 1.2, 137.0, 1.0, 0.0, 10.0, 1.0], [60.0, 1.0, 315.0, 1.0, 60.0, 0.0, 454000.0, 1.1, 131.0, 1.0, 1.0, 10.0, 1.0], [65.0, 0.0, 157.0, 0.0, 65.0, 0.0, 263358.03, 1.5, 138.0, 0.0, 0.0, 10.0, 1.0], [80.0, 1.0, 123.0, 0.0, 35.0, 1.0, 388000.0, 9.4, 133.0, 1.0, 1.0, 10.0, 1.0], [75.0, 1.0, 81.0, 0.0, 38.0, 1.0, 368000.0, 4.0, 131.0, 1.0, 1.0, 10.0, 1.0], [62.0, 0.0, 231.0, 0.0, 25.0, 1.0, 253000.0, 0.9, 140.0, 1.0, 1.0, 10.0, 1.0], [45.0, 1.0, 981.0, 0.0, 30.0, 0.0, 136000.0, 1.1, 137.0, 1.0, 0.0, 11.0, 1.0], [50.0, 1.0, 168.0, 0.0, 38.0, 1.0, 276000.0, 1.1, 137.0, 1.0, 0.0, 11.0, 1.0], [82.0, 1.0, 379.0, 0.0, 50.0, 0.0, 47000.0, 1.3, 136.0, 1.0, 0.0, 13.0, 1.0], [87.0, 1.0, 149.0, 0.0, 38.0, 0.0, 262000.0, 0.9, 140.0, 1.0, 0.0, 14.0, 1.0], [45.0, 0.0, 582.0, 0.0, 14.0, 0.0, 166000.0, 0.8, 127.0, 1.0, 0.0, 14.0, 1.0], [70.0, 1.0, 125.0, 0.0, 25.0, 1.0, 237000.0, 1.0, 140.0, 0.0, 0.0, 15.0, 1.0], [48.0, 1.0, 582.0, 1.0, 55.0, 0.0, 87000.0, 1.9, 121.0, 0.0, 0.0, 15.0, 1.0], [65.0, 1.0, 128.0, 1.0, 30.0, 1.0, 297000.0, 1.6, 136.0, 0.0, 0.0, 20.0, 1.0], [68.0, 1.0, 220.0, 0.0, 35.0, 1.0, 289000.0, 0.9, 140.0, 1.0, 1.0, 20.0, 1.0], [75.0, 0.0, 582.0, 1.0, 30.0, 1.0, 263358.03, 1.83, 134.0, 0.0, 0.0, 23.0, 1.0], [80.0, 0.0, 148.0, 1.0, 38.0, 0.0, 149000.0, 1.9, 144.0, 1.0, 1.0, 23.0, 1.0], [95.0, 1.0, 112.0, 0.0, 40.0, 1.0, 196000.0, 1.0, 138.0, 0.0, 0.0, 24.0, 1.0], [70.0, 0.0, 122.0, 1.0, 45.0, 1.0, 284000.0, 1.3, 136.0, 1.0, 1.0, 26.0, 1.0], [58.0, 1.0, 60.0, 0.0, 38.0, 0.0, 153000.0, 5.8, 134.0, 1.0, 0.0, 26.0, 1.0], [82.0, 0.0, 70.0, 1.0, 30.0, 0.0, 200000.0, 1.2, 132.0, 1.0, 1.0, 26.0, 1.0], [94.0, 0.0, 582.0, 1.0, 38.0, 1.0, 263358.03, 1.83, 134.0, 1.0, 0.0, 27.0, 1.0], [85.0, 0.0, 23.0, 0.0, 45.0, 0.0, 360000.0, 3.0, 132.0, 1.0, 0.0, 28.0, 1.0], [50.0, 1.0, 249.0, 1.0, 35.0, 1.0, 319000.0, 1.0, 128.0, 0.0, 0.0, 28.0, 1.0], [65.0, 0.0, 94.0, 1.0, 50.0, 1.0, 188000.0, 1.0, 140.0, 1.0, 0.0, 29.0, 1.0], [69.0, 0.0, 582.0, 1.0, 35.0, 0.0, 228000.0, 3.5, 134.0, 1.0, 0.0, 30.0, 1.0], [90.0, 1.0, 60.0, 1.0, 50.0, 0.0, 226000.0, 1.0, 134.0, 1.0, 0.0, 30.0, 1.0], [82.0, 1.0, 855.0, 1.0, 50.0, 1.0, 321000.0, 1.0, 145.0, 0.0, 0.0, 30.0, 1.0], [60.0, 0.0, 235.0, 1.0, 38.0, 0.0, 329000.0, 3.0, 142.0, 0.0, 0.0, 30.0, 1.0], [70.0, 0.0, 582.0, 0.0, 20.0, 1.0, 263358.03, 1.83, 134.0, 1.0, 1.0, 31.0, 1.0], [50.0, 0.0, 124.0, 1.0, 30.0, 1.0, 153000.0, 1.2, 136.0, 0.0, 1.0, 32.0, 1.0], [70.0, 0.0, 571.0, 1.0, 45.0, 1.0, 185000.0, 1.2, 139.0, 1.0, 1.0, 33.0, 1.0], [60.0, 1.0, 588.0, 1.0, 60.0, 0.0, 194000.0, 1.1, 142.0, 0.0, 0.0, 33.0, 1.0], [50.0, 0.0, 582.0, 1.0, 38.0, 0.0, 310000.0, 1.9, 135.0, 1.0, 1.0, 35.0, 1.0], [51.0, 0.0, 1380.0, 0.0, 25.0, 1.0, 271000.0, 0.9, 130.0, 1.0, 0.0, 38.0, 1.0], [60.0, 0.0, 582.0, 1.0, 38.0, 1.0, 451000.0, 0.6, 138.0, 1.0, 1.0, 40.0, 1.0], [80.0, 1.0, 553.0, 0.0, 20.0, 1.0, 140000.0, 4.4, 133.0, 1.0, 0.0, 41.0, 1.0], [57.0, 1.0, 129.0, 0.0, 30.0, 0.0, 395000.0, 1.0, 140.0, 0.0, 0.0, 42.0, 1.0], [68.0, 1.0, 577.0, 0.0, 25.0, 1.0, 166000.0, 1.0, 138.0, 1.0, 0.0, 43.0, 1.0], [53.0, 1.0, 91.0, 0.0, 20.0, 1.0, 418000.0, 1.4, 139.0, 0.0, 0.0, 43.0, 1.0], [60.0, 0.0, 3964.0, 1.0, 62.0, 0.0, 263358.03, 6.8, 146.0, 0.0, 0.0, 43.0, 1.0], [70.0, 1.0, 69.0, 1.0, 50.0, 1.0, 351000.0, 1.0, 134.0, 0.0, 0.0, 44.0, 1.0], [60.0, 1.0, 260.0, 1.0, 38.0, 0.0, 255000.0, 2.2, 132.0, 0.0, 1.0, 45.0, 1.0], [95.0, 1.0, 371.0, 0.0, 30.0, 0.0, 461000.0, 2.0, 132.0, 1.0, 0.0, 50.0, 1.0], [49.0, 0.0, 789.0, 0.0, 20.0, 1.0, 319000.0, 1.1, 136.0, 1.0, 1.0, 55.0, 1.0], [72.0, 0.0, 364.0, 1.0, 20.0, 1.0, 254000.0, 1.3, 136.0, 1.0, 1.0, 59.0, 1.0], [45.0, 0.0, 7702.0, 1.0, 25.0, 1.0, 390000.0, 1.0, 139.0, 1.0, 0.0, 60.0, 1.0], [50.0, 0.0, 318.0, 0.0, 40.0, 1.0, 216000.0, 2.3, 131.0, 0.0, 0.0, 60.0, 1.0], [45.0, 0.0, 582.0, 0.0, 35.0, 0.0, 385000.0, 1.0, 145.0, 1.0, 0.0, 61.0, 1.0], [60.0, 0.0, 68.0, 0.0, 20.0, 0.0, 119000.0, 2.9, 127.0, 1.0, 1.0, 64.0, 1.0], [42.0, 1.0, 250.0, 1.0, 15.0, 0.0, 213000.0, 1.3, 136.0, 0.0, 0.0, 65.0, 1.0], [72.0, 1.0, 110.0, 0.0, 25.0, 0.0, 274000.0, 1.0, 140.0, 1.0, 1.0, 65.0, 1.0], [70.0, 0.0, 161.0, 0.0, 25.0, 0.0, 244000.0, 1.2, 142.0, 0.0, 0.0, 66.0, 1.0], [65.0, 0.0, 113.0, 1.0, 25.0, 0.0, 497000.0, 1.83, 135.0, 1.0, 0.0, 67.0, 1.0], [85.0, 0.0, 5882.0, 0.0, 35.0, 0.0, 243000.0, 1.0, 132.0, 1.0, 1.0, 72.0, 1.0], [69.0, 0.0, 582.0, 0.0, 20.0, 0.0, 266000.0, 1.2, 134.0, 1.0, 1.0, 73.0, 1.0], [60.0, 1.0, 47.0, 0.0, 20.0, 0.0, 204000.0, 0.7, 139.0, 1.0, 1.0, 73.0, 1.0], [60.0, 1.0, 76.0, 1.0, 25.0, 0.0, 196000.0, 2.5, 132.0, 0.0, 0.0, 77.0, 1.0], [59.0, 1.0, 280.0, 1.0, 25.0, 1.0, 302000.0, 1.0, 141.0, 0.0, 0.0, 78.0, 1.0], [60.0, 1.0, 154.0, 0.0, 25.0, 0.0, 210000.0, 1.7, 135.0, 1.0, 0.0, 82.0, 1.0], [72.0, 1.0, 328.0, 0.0, 30.0, 1.0, 621000.0, 1.7, 138.0, 0.0, 1.0, 88.0, 1.0], [85.0, 0.0, 129.0, 0.0, 60.0, 0.0, 306000.0, 1.2, 132.0, 1.0, 1.0, 90.0, 1.0], [70.0, 1.0, 143.0, 0.0, 60.0, 0.0, 351000.0, 1.3, 137.0, 0.0, 0.0, 90.0, 1.0], [86.0, 0.0, 582.0, 0.0, 38.0, 0.0, 263358.03, 1.83, 134.0, 0.0, 0.0, 95.0, 1.0], [60.0, 0.0, 582.0, 0.0, 40.0, 0.0, 217000.0, 3.7, 134.0, 1.0, 0.0, 96.0, 1.0], [46.0, 0.0, 168.0, 1.0, 17.0, 1.0, 271000.0, 2.1, 124.0, 0.0, 0.0, 100.0, 1.0], [80.0, 0.0, 805.0, 0.0, 38.0, 0.0, 263358.03, 1.1, 134.0, 1.0, 0.0, 109.0, 1.0], [72.0, 1.0, 943.0, 0.0, 25.0, 1.0, 338000.0, 1.7, 139.0, 1.0, 1.0, 111.0, 1.0], [75.0, 1.0, 582.0, 0.0, 30.0, 0.0, 225000.0, 1.83, 134.0, 1.0, 0.0, 113.0, 1.0], [72.0, 0.0, 233.0, 0.0, 45.0, 1.0, 235000.0, 2.5, 135.0, 0.0, 0.0, 115.0, 1.0], [50.0, 1.0, 2334.0, 1.0, 35.0, 0.0, 75000.0, 0.9, 142.0, 0.0, 0.0, 126.0, 1.0], [45.0, 0.0, 2442.0, 1.0, 30.0, 0.0, 334000.0, 1.1, 139.0, 1.0, 0.0, 129.0, 1.0], [80.0, 0.0, 776.0, 1.0, 38.0, 1.0, 192000.0, 1.3, 135.0, 0.0, 0.0, 130.0, 1.0], [59.0, 0.0, 66.0, 1.0, 20.0, 0.0, 70000.0, 2.4, 134.0, 1.0, 0.0, 135.0, 1.0], [59.0, 1.0, 176.0, 1.0, 25.0, 0.0, 221000.0, 1.0, 136.0, 1.0, 1.0, 150.0, 1.0], [65.0, 0.0, 395.0, 1.0, 25.0, 0.0, 265000.0, 1.2, 136.0, 1.0, 1.0, 154.0, 1.0], [75.0, 0.0, 99.0, 0.0, 38.0, 1.0, 224000.0, 2.5, 134.0, 1.0, 0.0, 162.0, 1.0], [58.0, 1.0, 145.0, 0.0, 25.0, 0.0, 219000.0, 1.2, 137.0, 1.0, 1.0, 170.0, 1.0], [60.667, 1.0, 104.0, 1.0, 30.0, 0.0, 389000.0, 1.5, 136.0, 1.0, 0.0, 171.0, 1.0], [50.0, 0.0, 582.0, 0.0, 50.0, 0.0, 153000.0, 0.6, 134.0, 0.0, 0.0, 172.0, 1.0], [60.0, 0.0, 1896.0, 1.0, 25.0, 0.0, 365000.0, 2.1, 144.0, 0.0, 0.0, 172.0, 1.0], [45.0, 0.0, 582.0, 0.0, 20.0, 1.0, 126000.0, 1.6, 135.0, 1.0, 0.0, 180.0, 1.0], [77.0, 1.0, 418.0, 0.0, 45.0, 0.0, 223000.0, 1.8, 145.0, 1.0, 0.0, 180.0, 1.0], [48.0, 1.0, 131.0, 1.0, 30.0, 1.0, 244000.0, 1.6, 130.0, 0.0, 0.0, 193.0, 1.0], [54.0, 1.0, 427.0, 0.0, 70.0, 1.0, 151000.0, 9.0, 137.0, 0.0, 0.0, 196.0, 1.0], [73.0, 0.0, 582.0, 0.0, 20.0, 0.0, 263358.03, 1.83, 134.0, 1.0, 0.0, 198.0, 1.0], [60.0, 0.0, 166.0, 0.0, 30.0, 0.0, 62000.0, 1.7, 127.0, 0.0, 0.0, 207.0, 1.0], [55.0, 0.0, 2017.0, 0.0, 25.0, 0.0, 314000.0, 1.1, 138.0, 1.0, 0.0, 214.0, 1.0], [65.0, 1.0, 258.0, 1.0, 25.0, 0.0, 198000.0, 1.4, 129.0, 1.0, 0.0, 235.0, 1.0], [55.0, 0.0, 1199.0, 0.0, 20.0, 0.0, 263358.03, 1.83, 134.0, 1.0, 1.0, 241.0, 1.0]], \"hoverlabel\": {\"namelength\": 0}, \"hovertemplate\": \"DEATH_EVENT=%{customdata[12]}<br>smoking=%{customdata[10]}<br>age=%{customdata[0]}<br>anaemia=%{customdata[1]}<br>creatinine_phosphokinase=%{customdata[2]}<br>diabetes=%{customdata[3]}<br>ejection_fraction=%{customdata[4]}<br>high_blood_pressure=%{customdata[5]}<br>platelets=%{customdata[6]}<br>serum_creatinine=%{customdata[7]}<br>serum_sodium=%{customdata[8]}<br>sex=%{customdata[9]}<br>time=%{customdata[11]}\", \"legendgroup\": \"DEATH_EVENT=1\", \"marker\": {\"color\": \"#636efa\"}, \"name\": \"DEATH_EVENT=1\", \"offsetgroup\": \"DEATH_EVENT=1\", \"orientation\": \"v\", \"points\": \"all\", \"scalegroup\": \"True\", \"showlegend\": true, \"type\": \"violin\", \"x\": [0, 0, 1, 0, 0, 1, 0, 1, 0, 1, 1, 1, 0, 0, 0, 0, 0, 0, 0, 0, 1, 0, 1, 0, 1, 0, 1, 0, 0, 0, 0, 0, 0, 0, 0, 1, 1, 1, 0, 1, 0, 1, 0, 0, 0, 0, 0, 0, 1, 0, 1, 1, 0, 0, 0, 1, 0, 1, 0, 0, 1, 1, 1, 0, 0, 0, 1, 1, 0, 0, 0, 0, 0, 1, 0, 0, 0, 0, 0, 0, 1, 1, 0, 1, 0, 0, 0, 0, 0, 0, 0, 0, 0, 0, 0, 1], \"x0\": \" \", \"xaxis\": \"x\", \"y\": [75.0, 55.0, 65.0, 50.0, 65.0, 90.0, 75.0, 60.0, 65.0, 80.0, 75.0, 62.0, 45.0, 50.0, 82.0, 87.0, 45.0, 70.0, 48.0, 65.0, 68.0, 75.0, 80.0, 95.0, 70.0, 58.0, 82.0, 94.0, 85.0, 50.0, 65.0, 69.0, 90.0, 82.0, 60.0, 70.0, 50.0, 70.0, 60.0, 50.0, 51.0, 60.0, 80.0, 57.0, 68.0, 53.0, 60.0, 70.0, 60.0, 95.0, 49.0, 72.0, 45.0, 50.0, 45.0, 60.0, 42.0, 72.0, 70.0, 65.0, 85.0, 69.0, 60.0, 60.0, 59.0, 60.0, 72.0, 85.0, 70.0, 86.0, 60.0, 46.0, 80.0, 72.0, 75.0, 72.0, 50.0, 45.0, 80.0, 59.0, 59.0, 65.0, 75.0, 58.0, 60.667, 50.0, 60.0, 45.0, 77.0, 48.0, 54.0, 73.0, 60.0, 55.0, 65.0, 55.0], \"y0\": \" \", \"yaxis\": \"y\"}, {\"alignmentgroup\": \"True\", \"box\": {\"visible\": true}, \"customdata\": [[49.0, 1.0, 80.0, 0.0, 30.0, 1.0, 427000.0, 1.0, 138.0, 0.0, 0.0, 12.0, 0.0], [65.0, 1.0, 52.0, 0.0, 25.0, 1.0, 276000.0, 1.3, 137.0, 0.0, 0.0, 16.0, 0.0], [53.0, 0.0, 63.0, 1.0, 60.0, 0.0, 368000.0, 0.8, 135.0, 1.0, 0.0, 22.0, 0.0], [50.0, 1.0, 159.0, 1.0, 30.0, 0.0, 302000.0, 1.2, 138.0, 0.0, 0.0, 29.0, 0.0], [60.0, 0.0, 2656.0, 1.0, 30.0, 0.0, 305000.0, 2.3, 137.0, 1.0, 0.0, 30.0, 0.0], [72.0, 0.0, 127.0, 1.0, 50.0, 1.0, 218000.0, 1.0, 134.0, 1.0, 0.0, 33.0, 0.0], [70.0, 1.0, 75.0, 0.0, 35.0, 0.0, 223000.0, 2.7, 138.0, 1.0, 1.0, 54.0, 0.0], [60.0, 1.0, 607.0, 0.0, 40.0, 0.0, 216000.0, 0.6, 138.0, 1.0, 1.0, 54.0, 0.0], [55.0, 0.0, 109.0, 0.0, 35.0, 0.0, 254000.0, 1.1, 139.0, 1.0, 1.0, 60.0, 0.0], [45.0, 0.0, 582.0, 0.0, 80.0, 0.0, 263358.03, 1.18, 137.0, 0.0, 0.0, 63.0, 0.0], [41.0, 0.0, 148.0, 0.0, 40.0, 0.0, 374000.0, 0.8, 140.0, 1.0, 1.0, 68.0, 0.0], [58.0, 0.0, 582.0, 1.0, 35.0, 0.0, 122000.0, 0.9, 139.0, 1.0, 1.0, 71.0, 0.0], [65.0, 0.0, 224.0, 1.0, 50.0, 0.0, 149000.0, 1.3, 137.0, 1.0, 1.0, 72.0, 0.0], [70.0, 0.0, 92.0, 0.0, 60.0, 1.0, 317000.0, 0.8, 140.0, 0.0, 1.0, 74.0, 0.0], [42.0, 0.0, 102.0, 1.0, 40.0, 0.0, 237000.0, 1.2, 140.0, 1.0, 0.0, 74.0, 0.0], [75.0, 1.0, 203.0, 1.0, 38.0, 1.0, 283000.0, 0.6, 131.0, 1.0, 1.0, 74.0, 0.0], [55.0, 0.0, 336.0, 0.0, 45.0, 1.0, 324000.0, 0.9, 140.0, 0.0, 0.0, 74.0, 0.0], [70.0, 0.0, 69.0, 0.0, 40.0, 0.0, 293000.0, 1.7, 136.0, 0.0, 0.0, 75.0, 0.0], [67.0, 0.0, 582.0, 0.0, 50.0, 0.0, 263358.03, 1.18, 137.0, 1.0, 1.0, 76.0, 0.0], [79.0, 1.0, 55.0, 0.0, 50.0, 1.0, 172000.0, 1.8, 133.0, 1.0, 0.0, 78.0, 0.0], [51.0, 0.0, 78.0, 0.0, 50.0, 0.0, 406000.0, 0.7, 140.0, 1.0, 0.0, 79.0, 0.0], [55.0, 0.0, 47.0, 0.0, 35.0, 1.0, 173000.0, 1.1, 137.0, 1.0, 0.0, 79.0, 0.0], [65.0, 1.0, 68.0, 1.0, 60.0, 1.0, 304000.0, 0.8, 140.0, 1.0, 0.0, 79.0, 0.0], [44.0, 0.0, 84.0, 1.0, 40.0, 1.0, 235000.0, 0.7, 139.0, 1.0, 0.0, 79.0, 0.0], [57.0, 1.0, 115.0, 0.0, 25.0, 1.0, 181000.0, 1.1, 144.0, 1.0, 0.0, 79.0, 0.0], [70.0, 0.0, 66.0, 1.0, 45.0, 0.0, 249000.0, 0.8, 136.0, 1.0, 1.0, 80.0, 0.0], [60.0, 0.0, 897.0, 1.0, 45.0, 0.0, 297000.0, 1.0, 133.0, 1.0, 0.0, 80.0, 0.0], [42.0, 0.0, 582.0, 0.0, 60.0, 0.0, 263358.03, 1.18, 137.0, 0.0, 0.0, 82.0, 0.0], [58.0, 0.0, 144.0, 1.0, 38.0, 1.0, 327000.0, 0.7, 142.0, 0.0, 0.0, 83.0, 0.0], [58.0, 1.0, 133.0, 0.0, 60.0, 1.0, 219000.0, 1.0, 141.0, 1.0, 0.0, 83.0, 0.0], [63.0, 1.0, 514.0, 1.0, 25.0, 1.0, 254000.0, 1.3, 134.0, 1.0, 0.0, 83.0, 0.0], [70.0, 1.0, 59.0, 0.0, 60.0, 0.0, 255000.0, 1.1, 136.0, 0.0, 0.0, 85.0, 0.0], [60.0, 1.0, 156.0, 1.0, 25.0, 1.0, 318000.0, 1.2, 137.0, 0.0, 0.0, 85.0, 0.0], [63.0, 1.0, 61.0, 1.0, 40.0, 0.0, 221000.0, 1.1, 140.0, 0.0, 0.0, 86.0, 0.0], [65.0, 1.0, 305.0, 0.0, 25.0, 0.0, 298000.0, 1.1, 141.0, 1.0, 0.0, 87.0, 0.0], [75.0, 0.0, 582.0, 0.0, 45.0, 1.0, 263358.03, 1.18, 137.0, 1.0, 0.0, 87.0, 0.0], [80.0, 0.0, 898.0, 0.0, 25.0, 0.0, 149000.0, 1.1, 144.0, 1.0, 1.0, 87.0, 0.0], [42.0, 0.0, 5209.0, 0.0, 30.0, 0.0, 226000.0, 1.0, 140.0, 1.0, 1.0, 87.0, 0.0], [60.0, 0.0, 53.0, 0.0, 50.0, 1.0, 286000.0, 2.3, 143.0, 0.0, 0.0, 87.0, 0.0], [55.0, 0.0, 748.0, 0.0, 45.0, 0.0, 263000.0, 1.3, 137.0, 1.0, 0.0, 88.0, 0.0], [45.0, 1.0, 1876.0, 1.0, 35.0, 0.0, 226000.0, 0.9, 138.0, 1.0, 0.0, 88.0, 0.0], [63.0, 0.0, 936.0, 0.0, 38.0, 0.0, 304000.0, 1.1, 133.0, 1.0, 1.0, 88.0, 0.0], [45.0, 0.0, 292.0, 1.0, 35.0, 0.0, 850000.0, 1.3, 142.0, 1.0, 1.0, 88.0, 0.0], [55.0, 0.0, 60.0, 0.0, 35.0, 0.0, 228000.0, 1.2, 135.0, 1.0, 1.0, 90.0, 0.0], [50.0, 0.0, 369.0, 1.0, 25.0, 0.0, 252000.0, 1.6, 136.0, 1.0, 0.0, 90.0, 0.0], [60.0, 1.0, 754.0, 1.0, 40.0, 1.0, 328000.0, 1.2, 126.0, 1.0, 0.0, 91.0, 0.0], [58.0, 1.0, 400.0, 0.0, 40.0, 0.0, 164000.0, 1.0, 139.0, 0.0, 0.0, 91.0, 0.0], [60.0, 1.0, 96.0, 1.0, 60.0, 1.0, 271000.0, 0.7, 136.0, 0.0, 0.0, 94.0, 0.0], [85.0, 1.0, 102.0, 0.0, 60.0, 0.0, 507000.0, 3.2, 138.0, 0.0, 0.0, 94.0, 0.0], [65.0, 1.0, 113.0, 1.0, 60.0, 1.0, 203000.0, 0.9, 140.0, 0.0, 0.0, 94.0, 0.0], [60.0, 1.0, 737.0, 0.0, 60.0, 1.0, 210000.0, 1.5, 135.0, 1.0, 1.0, 95.0, 0.0], [66.0, 1.0, 68.0, 1.0, 38.0, 1.0, 162000.0, 1.0, 136.0, 0.0, 0.0, 95.0, 0.0], [60.0, 0.0, 96.0, 1.0, 38.0, 0.0, 228000.0, 0.75, 140.0, 0.0, 0.0, 95.0, 0.0], [60.0, 1.0, 582.0, 0.0, 30.0, 1.0, 127000.0, 0.9, 145.0, 0.0, 0.0, 95.0, 0.0], [43.0, 1.0, 358.0, 0.0, 50.0, 0.0, 237000.0, 1.3, 135.0, 0.0, 0.0, 97.0, 0.0], [58.0, 1.0, 200.0, 1.0, 60.0, 0.0, 300000.0, 0.8, 137.0, 0.0, 0.0, 104.0, 0.0], [61.0, 0.0, 248.0, 0.0, 30.0, 1.0, 267000.0, 0.7, 136.0, 1.0, 1.0, 104.0, 0.0], [53.0, 1.0, 270.0, 1.0, 35.0, 0.0, 227000.0, 3.4, 145.0, 1.0, 0.0, 105.0, 0.0], [53.0, 1.0, 1808.0, 0.0, 60.0, 1.0, 249000.0, 0.7, 138.0, 1.0, 1.0, 106.0, 0.0], [60.0, 1.0, 1082.0, 1.0, 45.0, 0.0, 250000.0, 6.1, 131.0, 1.0, 0.0, 107.0, 0.0], [46.0, 0.0, 719.0, 0.0, 40.0, 1.0, 263358.03, 1.18, 137.0, 0.0, 0.0, 107.0, 0.0], [63.0, 0.0, 193.0, 0.0, 60.0, 1.0, 295000.0, 1.3, 145.0, 1.0, 1.0, 107.0, 0.0], [81.0, 0.0, 4540.0, 0.0, 35.0, 0.0, 231000.0, 1.18, 137.0, 1.0, 1.0, 107.0, 0.0], [75.0, 0.0, 582.0, 0.0, 40.0, 0.0, 263358.03, 1.18, 137.0, 1.0, 0.0, 107.0, 0.0], [65.0, 1.0, 59.0, 1.0, 60.0, 0.0, 172000.0, 0.9, 137.0, 0.0, 0.0, 107.0, 0.0], [68.0, 1.0, 646.0, 0.0, 25.0, 0.0, 305000.0, 2.1, 130.0, 1.0, 0.0, 108.0, 0.0], [62.0, 0.0, 281.0, 1.0, 35.0, 0.0, 221000.0, 1.0, 136.0, 0.0, 0.0, 108.0, 0.0], [50.0, 0.0, 1548.0, 0.0, 30.0, 1.0, 211000.0, 0.8, 138.0, 1.0, 0.0, 108.0, 0.0], [46.0, 1.0, 291.0, 0.0, 35.0, 0.0, 348000.0, 0.9, 140.0, 0.0, 0.0, 109.0, 0.0], [50.0, 0.0, 482.0, 1.0, 30.0, 0.0, 329000.0, 0.9, 132.0, 0.0, 0.0, 109.0, 0.0], [61.0, 1.0, 84.0, 0.0, 40.0, 1.0, 229000.0, 0.9, 141.0, 0.0, 0.0, 110.0, 0.0], [50.0, 0.0, 185.0, 0.0, 30.0, 0.0, 266000.0, 0.7, 141.0, 1.0, 1.0, 112.0, 0.0], [52.0, 0.0, 132.0, 0.0, 30.0, 0.0, 218000.0, 0.7, 136.0, 1.0, 1.0, 112.0, 0.0], [64.0, 0.0, 1610.0, 0.0, 60.0, 0.0, 242000.0, 1.0, 137.0, 1.0, 0.0, 113.0, 0.0], [60.0, 0.0, 2261.0, 0.0, 35.0, 1.0, 228000.0, 0.9, 136.0, 1.0, 0.0, 115.0, 0.0], [62.0, 0.0, 30.0, 1.0, 60.0, 1.0, 244000.0, 0.9, 139.0, 1.0, 0.0, 117.0, 0.0], [50.0, 0.0, 115.0, 0.0, 45.0, 1.0, 184000.0, 0.9, 134.0, 1.0, 1.0, 118.0, 0.0], [50.0, 0.0, 1846.0, 1.0, 35.0, 0.0, 263358.03, 1.18, 137.0, 1.0, 1.0, 119.0, 0.0], [65.0, 1.0, 335.0, 0.0, 35.0, 1.0, 235000.0, 0.8, 136.0, 0.0, 0.0, 120.0, 0.0], [60.0, 1.0, 231.0, 1.0, 25.0, 0.0, 194000.0, 1.7, 140.0, 1.0, 0.0, 120.0, 0.0], [52.0, 1.0, 58.0, 0.0, 35.0, 0.0, 277000.0, 1.4, 136.0, 0.0, 0.0, 120.0, 0.0], [50.0, 0.0, 250.0, 0.0, 25.0, 0.0, 262000.0, 1.0, 136.0, 1.0, 1.0, 120.0, 0.0], [85.0, 1.0, 910.0, 0.0, 50.0, 0.0, 235000.0, 1.3, 134.0, 1.0, 0.0, 121.0, 0.0], [59.0, 1.0, 129.0, 0.0, 45.0, 1.0, 362000.0, 1.1, 139.0, 1.0, 1.0, 121.0, 0.0], [66.0, 1.0, 72.0, 0.0, 40.0, 1.0, 242000.0, 1.2, 134.0, 1.0, 0.0, 121.0, 0.0], [45.0, 1.0, 130.0, 0.0, 35.0, 0.0, 174000.0, 0.8, 139.0, 1.0, 1.0, 121.0, 0.0], [63.0, 1.0, 582.0, 0.0, 40.0, 0.0, 448000.0, 0.9, 137.0, 1.0, 1.0, 123.0, 0.0], [53.0, 0.0, 196.0, 0.0, 60.0, 0.0, 220000.0, 0.7, 133.0, 1.0, 1.0, 134.0, 0.0], [65.0, 0.0, 582.0, 1.0, 40.0, 0.0, 270000.0, 1.0, 138.0, 0.0, 0.0, 140.0, 0.0], [70.0, 0.0, 835.0, 0.0, 35.0, 1.0, 305000.0, 0.8, 133.0, 0.0, 0.0, 145.0, 0.0], [51.0, 1.0, 582.0, 1.0, 35.0, 0.0, 263358.03, 1.5, 136.0, 1.0, 1.0, 145.0, 0.0], [52.0, 0.0, 3966.0, 0.0, 40.0, 0.0, 325000.0, 0.9, 140.0, 1.0, 1.0, 146.0, 0.0], [70.0, 1.0, 171.0, 0.0, 60.0, 1.0, 176000.0, 1.1, 145.0, 1.0, 1.0, 146.0, 0.0], [50.0, 1.0, 115.0, 0.0, 20.0, 0.0, 189000.0, 0.8, 139.0, 1.0, 0.0, 146.0, 0.0], [65.0, 0.0, 198.0, 1.0, 35.0, 1.0, 281000.0, 0.9, 137.0, 1.0, 1.0, 146.0, 0.0], [60.0, 1.0, 95.0, 0.0, 60.0, 0.0, 337000.0, 1.0, 138.0, 1.0, 1.0, 146.0, 0.0], [69.0, 0.0, 1419.0, 0.0, 40.0, 0.0, 105000.0, 1.0, 135.0, 1.0, 1.0, 147.0, 0.0], [49.0, 1.0, 69.0, 0.0, 50.0, 0.0, 132000.0, 1.0, 140.0, 0.0, 0.0, 147.0, 0.0], [63.0, 1.0, 122.0, 1.0, 60.0, 0.0, 267000.0, 1.2, 145.0, 1.0, 0.0, 147.0, 0.0], [55.0, 0.0, 835.0, 0.0, 40.0, 0.0, 279000.0, 0.7, 140.0, 1.0, 1.0, 147.0, 0.0], [40.0, 0.0, 478.0, 1.0, 30.0, 0.0, 303000.0, 0.9, 136.0, 1.0, 0.0, 148.0, 0.0], [60.667, 1.0, 151.0, 1.0, 40.0, 1.0, 201000.0, 1.0, 136.0, 0.0, 0.0, 172.0, 0.0], [40.0, 0.0, 244.0, 0.0, 45.0, 1.0, 275000.0, 0.9, 140.0, 0.0, 0.0, 174.0, 0.0], [80.0, 0.0, 582.0, 1.0, 35.0, 0.0, 350000.0, 2.1, 134.0, 1.0, 0.0, 174.0, 0.0], [64.0, 1.0, 62.0, 0.0, 60.0, 0.0, 309000.0, 1.5, 135.0, 0.0, 0.0, 174.0, 0.0], [50.0, 1.0, 121.0, 1.0, 40.0, 0.0, 260000.0, 0.7, 130.0, 1.0, 0.0, 175.0, 0.0], [73.0, 1.0, 231.0, 1.0, 30.0, 0.0, 160000.0, 1.18, 142.0, 1.0, 1.0, 180.0, 0.0], [45.0, 0.0, 582.0, 1.0, 38.0, 1.0, 263358.03, 1.18, 137.0, 0.0, 0.0, 185.0, 0.0], [65.0, 0.0, 167.0, 0.0, 30.0, 0.0, 259000.0, 0.8, 138.0, 0.0, 0.0, 186.0, 0.0], [50.0, 1.0, 582.0, 1.0, 20.0, 1.0, 279000.0, 1.0, 134.0, 0.0, 0.0, 186.0, 0.0], [60.0, 0.0, 1211.0, 1.0, 35.0, 0.0, 263358.03, 1.8, 113.0, 1.0, 1.0, 186.0, 0.0], [63.0, 1.0, 1767.0, 0.0, 45.0, 0.0, 73000.0, 0.7, 137.0, 1.0, 0.0, 186.0, 0.0], [45.0, 0.0, 308.0, 1.0, 60.0, 1.0, 377000.0, 1.0, 136.0, 1.0, 0.0, 186.0, 0.0], [70.0, 0.0, 97.0, 0.0, 60.0, 1.0, 220000.0, 0.9, 138.0, 1.0, 0.0, 186.0, 0.0], [60.0, 0.0, 59.0, 0.0, 25.0, 1.0, 212000.0, 3.5, 136.0, 1.0, 1.0, 187.0, 0.0], [78.0, 1.0, 64.0, 0.0, 40.0, 0.0, 277000.0, 0.7, 137.0, 1.0, 1.0, 187.0, 0.0], [50.0, 1.0, 167.0, 1.0, 45.0, 0.0, 362000.0, 1.0, 136.0, 0.0, 0.0, 187.0, 0.0], [40.0, 1.0, 101.0, 0.0, 40.0, 0.0, 226000.0, 0.8, 141.0, 0.0, 0.0, 187.0, 0.0], [85.0, 0.0, 212.0, 0.0, 38.0, 0.0, 186000.0, 0.9, 136.0, 1.0, 0.0, 187.0, 0.0], [60.0, 1.0, 2281.0, 1.0, 40.0, 0.0, 283000.0, 1.0, 141.0, 0.0, 0.0, 187.0, 0.0], [49.0, 0.0, 972.0, 1.0, 35.0, 1.0, 268000.0, 0.8, 130.0, 0.0, 0.0, 187.0, 0.0], [70.0, 0.0, 212.0, 1.0, 17.0, 1.0, 389000.0, 1.0, 136.0, 1.0, 1.0, 188.0, 0.0], [50.0, 0.0, 582.0, 0.0, 62.0, 1.0, 147000.0, 0.8, 140.0, 1.0, 1.0, 192.0, 0.0], [78.0, 0.0, 224.0, 0.0, 50.0, 0.0, 481000.0, 1.4, 138.0, 1.0, 1.0, 192.0, 0.0], [65.0, 1.0, 135.0, 0.0, 35.0, 1.0, 290000.0, 0.8, 134.0, 1.0, 0.0, 194.0, 0.0], [73.0, 0.0, 582.0, 0.0, 35.0, 1.0, 203000.0, 1.3, 134.0, 1.0, 0.0, 195.0, 0.0], [70.0, 0.0, 1202.0, 0.0, 50.0, 1.0, 358000.0, 0.9, 141.0, 0.0, 0.0, 196.0, 0.0], [68.0, 1.0, 1021.0, 1.0, 35.0, 0.0, 271000.0, 1.1, 134.0, 1.0, 0.0, 197.0, 0.0], [55.0, 0.0, 582.0, 1.0, 35.0, 1.0, 371000.0, 0.7, 140.0, 0.0, 0.0, 197.0, 0.0], [65.0, 0.0, 118.0, 0.0, 50.0, 0.0, 194000.0, 1.1, 145.0, 1.0, 1.0, 200.0, 0.0], [42.0, 1.0, 86.0, 0.0, 35.0, 0.0, 365000.0, 1.1, 139.0, 1.0, 1.0, 201.0, 0.0], [47.0, 0.0, 582.0, 0.0, 25.0, 0.0, 130000.0, 0.8, 134.0, 1.0, 0.0, 201.0, 0.0], [58.0, 0.0, 582.0, 1.0, 25.0, 0.0, 504000.0, 1.0, 138.0, 1.0, 0.0, 205.0, 0.0], [75.0, 0.0, 675.0, 1.0, 60.0, 0.0, 265000.0, 1.4, 125.0, 0.0, 0.0, 205.0, 0.0], [58.0, 1.0, 57.0, 0.0, 25.0, 0.0, 189000.0, 1.3, 132.0, 1.0, 1.0, 205.0, 0.0], [55.0, 1.0, 2794.0, 0.0, 35.0, 1.0, 141000.0, 1.0, 140.0, 1.0, 0.0, 206.0, 0.0], [65.0, 0.0, 56.0, 0.0, 25.0, 0.0, 237000.0, 5.0, 130.0, 0.0, 0.0, 207.0, 0.0], [72.0, 0.0, 211.0, 0.0, 25.0, 0.0, 274000.0, 1.2, 134.0, 0.0, 0.0, 207.0, 0.0], [70.0, 0.0, 93.0, 0.0, 35.0, 0.0, 185000.0, 1.1, 134.0, 1.0, 1.0, 208.0, 0.0], [40.0, 1.0, 129.0, 0.0, 35.0, 0.0, 255000.0, 0.9, 137.0, 1.0, 0.0, 209.0, 0.0], [53.0, 1.0, 707.0, 0.0, 38.0, 0.0, 330000.0, 1.4, 137.0, 1.0, 1.0, 209.0, 0.0], [53.0, 1.0, 582.0, 0.0, 45.0, 0.0, 305000.0, 1.1, 137.0, 1.0, 1.0, 209.0, 0.0], [77.0, 1.0, 109.0, 0.0, 50.0, 1.0, 406000.0, 1.1, 137.0, 1.0, 0.0, 209.0, 0.0], [75.0, 0.0, 119.0, 0.0, 50.0, 1.0, 248000.0, 1.1, 148.0, 1.0, 0.0, 209.0, 0.0], [70.0, 0.0, 232.0, 0.0, 30.0, 0.0, 173000.0, 1.2, 132.0, 1.0, 0.0, 210.0, 0.0], [65.0, 1.0, 720.0, 1.0, 40.0, 0.0, 257000.0, 1.0, 136.0, 0.0, 0.0, 210.0, 0.0], [55.0, 1.0, 180.0, 0.0, 45.0, 0.0, 263358.03, 1.18, 137.0, 1.0, 1.0, 211.0, 0.0], [70.0, 0.0, 81.0, 1.0, 35.0, 1.0, 533000.0, 1.3, 139.0, 0.0, 0.0, 212.0, 0.0], [65.0, 0.0, 582.0, 1.0, 30.0, 0.0, 249000.0, 1.3, 136.0, 1.0, 1.0, 212.0, 0.0], [40.0, 0.0, 90.0, 0.0, 35.0, 0.0, 255000.0, 1.1, 136.0, 1.0, 1.0, 212.0, 0.0], [73.0, 1.0, 1185.0, 0.0, 40.0, 1.0, 220000.0, 0.9, 141.0, 0.0, 0.0, 213.0, 0.0], [54.0, 0.0, 582.0, 1.0, 38.0, 0.0, 264000.0, 1.8, 134.0, 1.0, 0.0, 213.0, 0.0], [61.0, 1.0, 80.0, 1.0, 38.0, 0.0, 282000.0, 1.4, 137.0, 1.0, 0.0, 213.0, 0.0], [64.0, 0.0, 143.0, 0.0, 25.0, 0.0, 246000.0, 2.4, 135.0, 1.0, 0.0, 214.0, 0.0], [40.0, 0.0, 624.0, 0.0, 35.0, 0.0, 301000.0, 1.0, 142.0, 1.0, 1.0, 214.0, 0.0], [53.0, 0.0, 207.0, 1.0, 40.0, 0.0, 223000.0, 1.2, 130.0, 0.0, 0.0, 214.0, 0.0], [50.0, 0.0, 2522.0, 0.0, 30.0, 1.0, 404000.0, 0.5, 139.0, 0.0, 0.0, 214.0, 0.0], [55.0, 0.0, 572.0, 1.0, 35.0, 0.0, 231000.0, 0.8, 143.0, 0.0, 0.0, 215.0, 0.0], [50.0, 0.0, 245.0, 0.0, 45.0, 1.0, 274000.0, 1.0, 133.0, 1.0, 0.0, 215.0, 0.0], [70.0, 0.0, 88.0, 1.0, 35.0, 1.0, 236000.0, 1.2, 132.0, 0.0, 0.0, 215.0, 0.0], [53.0, 1.0, 446.0, 0.0, 60.0, 1.0, 263358.03, 1.0, 139.0, 1.0, 0.0, 215.0, 0.0], [52.0, 1.0, 191.0, 1.0, 30.0, 1.0, 334000.0, 1.0, 142.0, 1.0, 1.0, 216.0, 0.0], [65.0, 0.0, 326.0, 0.0, 38.0, 0.0, 294000.0, 1.7, 139.0, 0.0, 0.0, 220.0, 0.0], [58.0, 0.0, 132.0, 1.0, 38.0, 1.0, 253000.0, 1.0, 139.0, 1.0, 0.0, 230.0, 0.0], [45.0, 1.0, 66.0, 1.0, 25.0, 0.0, 233000.0, 0.8, 135.0, 1.0, 0.0, 230.0, 0.0], [53.0, 0.0, 56.0, 0.0, 50.0, 0.0, 308000.0, 0.7, 135.0, 1.0, 1.0, 231.0, 0.0], [55.0, 0.0, 66.0, 0.0, 40.0, 0.0, 203000.0, 1.0, 138.0, 1.0, 0.0, 233.0, 0.0], [62.0, 1.0, 655.0, 0.0, 40.0, 0.0, 283000.0, 0.7, 133.0, 0.0, 0.0, 233.0, 0.0], [68.0, 1.0, 157.0, 1.0, 60.0, 0.0, 208000.0, 1.0, 140.0, 0.0, 0.0, 237.0, 0.0], [61.0, 0.0, 582.0, 1.0, 38.0, 0.0, 147000.0, 1.2, 141.0, 1.0, 0.0, 237.0, 0.0], [50.0, 1.0, 298.0, 0.0, 35.0, 0.0, 362000.0, 0.9, 140.0, 1.0, 1.0, 240.0, 0.0], [56.0, 1.0, 135.0, 1.0, 38.0, 0.0, 133000.0, 1.7, 140.0, 1.0, 0.0, 244.0, 0.0], [45.0, 0.0, 582.0, 1.0, 38.0, 0.0, 302000.0, 0.9, 140.0, 0.0, 0.0, 244.0, 0.0], [40.0, 0.0, 582.0, 1.0, 35.0, 0.0, 222000.0, 1.0, 132.0, 1.0, 0.0, 244.0, 0.0], [44.0, 0.0, 582.0, 1.0, 30.0, 1.0, 263358.03, 1.6, 130.0, 1.0, 1.0, 244.0, 0.0], [51.0, 0.0, 582.0, 1.0, 40.0, 0.0, 221000.0, 0.9, 134.0, 0.0, 0.0, 244.0, 0.0], [67.0, 0.0, 213.0, 0.0, 38.0, 0.0, 215000.0, 1.2, 133.0, 0.0, 0.0, 245.0, 0.0], [42.0, 0.0, 64.0, 0.0, 40.0, 0.0, 189000.0, 0.7, 140.0, 1.0, 0.0, 245.0, 0.0], [60.0, 1.0, 257.0, 1.0, 30.0, 0.0, 150000.0, 1.0, 137.0, 1.0, 1.0, 245.0, 0.0], [45.0, 0.0, 582.0, 0.0, 38.0, 1.0, 422000.0, 0.8, 137.0, 0.0, 0.0, 245.0, 0.0], [70.0, 0.0, 618.0, 0.0, 35.0, 0.0, 327000.0, 1.1, 142.0, 0.0, 0.0, 245.0, 0.0], [70.0, 0.0, 582.0, 1.0, 38.0, 0.0, 25100.0, 1.1, 140.0, 1.0, 0.0, 246.0, 0.0], [50.0, 1.0, 1051.0, 1.0, 30.0, 0.0, 232000.0, 0.7, 136.0, 0.0, 0.0, 246.0, 0.0], [55.0, 0.0, 84.0, 1.0, 38.0, 0.0, 451000.0, 1.3, 136.0, 0.0, 0.0, 246.0, 0.0], [70.0, 0.0, 2695.0, 1.0, 40.0, 0.0, 241000.0, 1.0, 137.0, 1.0, 0.0, 247.0, 0.0], [70.0, 0.0, 582.0, 0.0, 40.0, 0.0, 51000.0, 2.7, 136.0, 1.0, 1.0, 250.0, 0.0], [42.0, 0.0, 64.0, 0.0, 30.0, 0.0, 215000.0, 3.8, 128.0, 1.0, 1.0, 250.0, 0.0], [65.0, 0.0, 1688.0, 0.0, 38.0, 0.0, 263358.03, 1.1, 138.0, 1.0, 1.0, 250.0, 0.0], [50.0, 1.0, 54.0, 0.0, 40.0, 0.0, 279000.0, 0.8, 141.0, 1.0, 0.0, 250.0, 0.0], [55.0, 1.0, 170.0, 1.0, 40.0, 0.0, 336000.0, 1.2, 135.0, 1.0, 0.0, 250.0, 0.0], [60.0, 0.0, 253.0, 0.0, 35.0, 0.0, 279000.0, 1.7, 140.0, 1.0, 0.0, 250.0, 0.0], [45.0, 0.0, 582.0, 1.0, 55.0, 0.0, 543000.0, 1.0, 132.0, 0.0, 0.0, 250.0, 0.0], [65.0, 0.0, 892.0, 1.0, 35.0, 0.0, 263358.03, 1.1, 142.0, 0.0, 0.0, 256.0, 0.0], [90.0, 1.0, 337.0, 0.0, 38.0, 0.0, 390000.0, 0.9, 144.0, 0.0, 0.0, 256.0, 0.0], [45.0, 0.0, 615.0, 1.0, 55.0, 0.0, 222000.0, 0.8, 141.0, 0.0, 0.0, 257.0, 0.0], [60.0, 0.0, 320.0, 0.0, 35.0, 0.0, 133000.0, 1.4, 139.0, 1.0, 0.0, 258.0, 0.0], [52.0, 0.0, 190.0, 1.0, 38.0, 0.0, 382000.0, 1.0, 140.0, 1.0, 1.0, 258.0, 0.0], [63.0, 1.0, 103.0, 1.0, 35.0, 0.0, 179000.0, 0.9, 136.0, 1.0, 1.0, 270.0, 0.0], [62.0, 0.0, 61.0, 1.0, 38.0, 1.0, 155000.0, 1.1, 143.0, 1.0, 1.0, 270.0, 0.0], [55.0, 0.0, 1820.0, 0.0, 38.0, 0.0, 270000.0, 1.2, 139.0, 0.0, 0.0, 271.0, 0.0], [45.0, 0.0, 2060.0, 1.0, 60.0, 0.0, 742000.0, 0.8, 138.0, 0.0, 0.0, 278.0, 0.0], [45.0, 0.0, 2413.0, 0.0, 38.0, 0.0, 140000.0, 1.4, 140.0, 1.0, 1.0, 280.0, 0.0], [50.0, 0.0, 196.0, 0.0, 45.0, 0.0, 395000.0, 1.6, 136.0, 1.0, 1.0, 285.0, 0.0]], \"hoverlabel\": {\"namelength\": 0}, \"hovertemplate\": \"DEATH_EVENT=%{customdata[12]}<br>smoking=%{customdata[10]}<br>age=%{customdata[0]}<br>anaemia=%{customdata[1]}<br>creatinine_phosphokinase=%{customdata[2]}<br>diabetes=%{customdata[3]}<br>ejection_fraction=%{customdata[4]}<br>high_blood_pressure=%{customdata[5]}<br>platelets=%{customdata[6]}<br>serum_creatinine=%{customdata[7]}<br>serum_sodium=%{customdata[8]}<br>sex=%{customdata[9]}<br>time=%{customdata[11]}\", \"legendgroup\": \"DEATH_EVENT=0\", \"marker\": {\"color\": \"#EF553B\"}, \"name\": \"DEATH_EVENT=0\", \"offsetgroup\": \"DEATH_EVENT=0\", \"orientation\": \"v\", \"points\": \"all\", \"scalegroup\": \"True\", \"showlegend\": true, \"type\": \"violin\", \"x\": [0, 0, 0, 0, 0, 0, 1, 1, 1, 0, 1, 1, 1, 1, 0, 1, 0, 0, 1, 0, 0, 0, 0, 0, 0, 1, 0, 0, 0, 0, 0, 0, 0, 0, 0, 0, 1, 1, 0, 0, 0, 1, 1, 1, 0, 0, 0, 0, 0, 0, 1, 0, 0, 0, 0, 0, 1, 0, 1, 0, 0, 1, 1, 0, 0, 0, 0, 0, 0, 0, 0, 1, 1, 0, 0, 0, 1, 1, 0, 0, 0, 1, 0, 1, 0, 1, 1, 1, 0, 0, 1, 1, 1, 0, 1, 1, 1, 0, 0, 1, 0, 0, 0, 0, 0, 0, 1, 0, 0, 0, 1, 0, 0, 0, 1, 1, 0, 0, 0, 0, 0, 1, 1, 1, 0, 0, 0, 0, 0, 1, 1, 0, 0, 0, 1, 0, 0, 0, 1, 0, 1, 1, 0, 0, 0, 0, 1, 0, 1, 1, 0, 0, 0, 0, 1, 0, 0, 0, 0, 0, 0, 1, 0, 0, 0, 1, 0, 0, 0, 0, 1, 0, 0, 0, 1, 0, 0, 0, 1, 0, 0, 0, 0, 0, 0, 1, 1, 1, 0, 0, 0, 0, 0, 0, 0, 0, 1, 1, 1, 0, 0, 1, 1], \"x0\": \" \", \"xaxis\": \"x\", \"y\": [49.0, 65.0, 53.0, 50.0, 60.0, 72.0, 70.0, 60.0, 55.0, 45.0, 41.0, 58.0, 65.0, 70.0, 42.0, 75.0, 55.0, 70.0, 67.0, 79.0, 51.0, 55.0, 65.0, 44.0, 57.0, 70.0, 60.0, 42.0, 58.0, 58.0, 63.0, 70.0, 60.0, 63.0, 65.0, 75.0, 80.0, 42.0, 60.0, 55.0, 45.0, 63.0, 45.0, 55.0, 50.0, 60.0, 58.0, 60.0, 85.0, 65.0, 60.0, 66.0, 60.0, 60.0, 43.0, 58.0, 61.0, 53.0, 53.0, 60.0, 46.0, 63.0, 81.0, 75.0, 65.0, 68.0, 62.0, 50.0, 46.0, 50.0, 61.0, 50.0, 52.0, 64.0, 60.0, 62.0, 50.0, 50.0, 65.0, 60.0, 52.0, 50.0, 85.0, 59.0, 66.0, 45.0, 63.0, 53.0, 65.0, 70.0, 51.0, 52.0, 70.0, 50.0, 65.0, 60.0, 69.0, 49.0, 63.0, 55.0, 40.0, 60.667, 40.0, 80.0, 64.0, 50.0, 73.0, 45.0, 65.0, 50.0, 60.0, 63.0, 45.0, 70.0, 60.0, 78.0, 50.0, 40.0, 85.0, 60.0, 49.0, 70.0, 50.0, 78.0, 65.0, 73.0, 70.0, 68.0, 55.0, 65.0, 42.0, 47.0, 58.0, 75.0, 58.0, 55.0, 65.0, 72.0, 70.0, 40.0, 53.0, 53.0, 77.0, 75.0, 70.0, 65.0, 55.0, 70.0, 65.0, 40.0, 73.0, 54.0, 61.0, 64.0, 40.0, 53.0, 50.0, 55.0, 50.0, 70.0, 53.0, 52.0, 65.0, 58.0, 45.0, 53.0, 55.0, 62.0, 68.0, 61.0, 50.0, 56.0, 45.0, 40.0, 44.0, 51.0, 67.0, 42.0, 60.0, 45.0, 70.0, 70.0, 50.0, 55.0, 70.0, 70.0, 42.0, 65.0, 50.0, 55.0, 60.0, 45.0, 65.0, 90.0, 45.0, 60.0, 52.0, 63.0, 62.0, 55.0, 45.0, 45.0, 50.0], \"y0\": \" \", \"yaxis\": \"y\"}],\n",
              "                        {\"legend\": {\"tracegroupgap\": 0}, \"margin\": {\"t\": 60}, \"template\": {\"data\": {\"bar\": [{\"error_x\": {\"color\": \"#2a3f5f\"}, \"error_y\": {\"color\": \"#2a3f5f\"}, \"marker\": {\"line\": {\"color\": \"#E5ECF6\", \"width\": 0.5}}, \"type\": \"bar\"}], \"barpolar\": [{\"marker\": {\"line\": {\"color\": \"#E5ECF6\", \"width\": 0.5}}, \"type\": \"barpolar\"}], \"carpet\": [{\"aaxis\": {\"endlinecolor\": \"#2a3f5f\", \"gridcolor\": \"white\", \"linecolor\": \"white\", \"minorgridcolor\": \"white\", \"startlinecolor\": \"#2a3f5f\"}, \"baxis\": {\"endlinecolor\": \"#2a3f5f\", \"gridcolor\": \"white\", \"linecolor\": \"white\", \"minorgridcolor\": \"white\", \"startlinecolor\": \"#2a3f5f\"}, \"type\": \"carpet\"}], \"choropleth\": [{\"colorbar\": {\"outlinewidth\": 0, \"ticks\": \"\"}, \"type\": \"choropleth\"}], \"contour\": [{\"colorbar\": {\"outlinewidth\": 0, \"ticks\": \"\"}, \"colorscale\": [[0.0, \"#0d0887\"], [0.1111111111111111, \"#46039f\"], [0.2222222222222222, \"#7201a8\"], [0.3333333333333333, \"#9c179e\"], [0.4444444444444444, \"#bd3786\"], [0.5555555555555556, \"#d8576b\"], [0.6666666666666666, \"#ed7953\"], [0.7777777777777778, \"#fb9f3a\"], [0.8888888888888888, \"#fdca26\"], [1.0, \"#f0f921\"]], \"type\": \"contour\"}], \"contourcarpet\": [{\"colorbar\": {\"outlinewidth\": 0, \"ticks\": \"\"}, \"type\": \"contourcarpet\"}], \"heatmap\": [{\"colorbar\": {\"outlinewidth\": 0, \"ticks\": \"\"}, \"colorscale\": [[0.0, \"#0d0887\"], [0.1111111111111111, \"#46039f\"], [0.2222222222222222, \"#7201a8\"], [0.3333333333333333, \"#9c179e\"], [0.4444444444444444, \"#bd3786\"], [0.5555555555555556, \"#d8576b\"], [0.6666666666666666, \"#ed7953\"], [0.7777777777777778, \"#fb9f3a\"], [0.8888888888888888, \"#fdca26\"], [1.0, \"#f0f921\"]], \"type\": \"heatmap\"}], \"heatmapgl\": [{\"colorbar\": {\"outlinewidth\": 0, \"ticks\": \"\"}, \"colorscale\": [[0.0, \"#0d0887\"], [0.1111111111111111, \"#46039f\"], [0.2222222222222222, \"#7201a8\"], [0.3333333333333333, \"#9c179e\"], [0.4444444444444444, \"#bd3786\"], [0.5555555555555556, \"#d8576b\"], [0.6666666666666666, \"#ed7953\"], [0.7777777777777778, \"#fb9f3a\"], [0.8888888888888888, \"#fdca26\"], [1.0, \"#f0f921\"]], \"type\": \"heatmapgl\"}], \"histogram\": [{\"marker\": {\"colorbar\": {\"outlinewidth\": 0, \"ticks\": \"\"}}, \"type\": \"histogram\"}], \"histogram2d\": [{\"colorbar\": {\"outlinewidth\": 0, \"ticks\": \"\"}, \"colorscale\": [[0.0, \"#0d0887\"], [0.1111111111111111, \"#46039f\"], [0.2222222222222222, \"#7201a8\"], [0.3333333333333333, \"#9c179e\"], [0.4444444444444444, \"#bd3786\"], [0.5555555555555556, \"#d8576b\"], [0.6666666666666666, \"#ed7953\"], [0.7777777777777778, \"#fb9f3a\"], [0.8888888888888888, \"#fdca26\"], [1.0, \"#f0f921\"]], \"type\": \"histogram2d\"}], \"histogram2dcontour\": [{\"colorbar\": {\"outlinewidth\": 0, \"ticks\": \"\"}, \"colorscale\": [[0.0, \"#0d0887\"], [0.1111111111111111, \"#46039f\"], [0.2222222222222222, \"#7201a8\"], [0.3333333333333333, \"#9c179e\"], [0.4444444444444444, \"#bd3786\"], [0.5555555555555556, \"#d8576b\"], [0.6666666666666666, \"#ed7953\"], [0.7777777777777778, \"#fb9f3a\"], [0.8888888888888888, \"#fdca26\"], [1.0, \"#f0f921\"]], \"type\": \"histogram2dcontour\"}], \"mesh3d\": [{\"colorbar\": {\"outlinewidth\": 0, \"ticks\": \"\"}, \"type\": \"mesh3d\"}], \"parcoords\": [{\"line\": {\"colorbar\": {\"outlinewidth\": 0, \"ticks\": \"\"}}, \"type\": \"parcoords\"}], \"pie\": [{\"automargin\": true, \"type\": \"pie\"}], \"scatter\": [{\"marker\": {\"colorbar\": {\"outlinewidth\": 0, \"ticks\": \"\"}}, \"type\": \"scatter\"}], \"scatter3d\": [{\"line\": {\"colorbar\": {\"outlinewidth\": 0, \"ticks\": \"\"}}, \"marker\": {\"colorbar\": {\"outlinewidth\": 0, \"ticks\": \"\"}}, \"type\": \"scatter3d\"}], \"scattercarpet\": [{\"marker\": {\"colorbar\": {\"outlinewidth\": 0, \"ticks\": \"\"}}, \"type\": \"scattercarpet\"}], \"scattergeo\": [{\"marker\": {\"colorbar\": {\"outlinewidth\": 0, \"ticks\": \"\"}}, \"type\": \"scattergeo\"}], \"scattergl\": [{\"marker\": {\"colorbar\": {\"outlinewidth\": 0, \"ticks\": \"\"}}, \"type\": \"scattergl\"}], \"scattermapbox\": [{\"marker\": {\"colorbar\": {\"outlinewidth\": 0, \"ticks\": \"\"}}, \"type\": \"scattermapbox\"}], \"scatterpolar\": [{\"marker\": {\"colorbar\": {\"outlinewidth\": 0, \"ticks\": \"\"}}, \"type\": \"scatterpolar\"}], \"scatterpolargl\": [{\"marker\": {\"colorbar\": {\"outlinewidth\": 0, \"ticks\": \"\"}}, \"type\": \"scatterpolargl\"}], \"scatterternary\": [{\"marker\": {\"colorbar\": {\"outlinewidth\": 0, \"ticks\": \"\"}}, \"type\": \"scatterternary\"}], \"surface\": [{\"colorbar\": {\"outlinewidth\": 0, \"ticks\": \"\"}, \"colorscale\": [[0.0, \"#0d0887\"], [0.1111111111111111, \"#46039f\"], [0.2222222222222222, \"#7201a8\"], [0.3333333333333333, \"#9c179e\"], [0.4444444444444444, \"#bd3786\"], [0.5555555555555556, \"#d8576b\"], [0.6666666666666666, \"#ed7953\"], [0.7777777777777778, \"#fb9f3a\"], [0.8888888888888888, \"#fdca26\"], [1.0, \"#f0f921\"]], \"type\": \"surface\"}], \"table\": [{\"cells\": {\"fill\": {\"color\": \"#EBF0F8\"}, \"line\": {\"color\": \"white\"}}, \"header\": {\"fill\": {\"color\": \"#C8D4E3\"}, \"line\": {\"color\": \"white\"}}, \"type\": \"table\"}]}, \"layout\": {\"annotationdefaults\": {\"arrowcolor\": \"#2a3f5f\", \"arrowhead\": 0, \"arrowwidth\": 1}, \"coloraxis\": {\"colorbar\": {\"outlinewidth\": 0, \"ticks\": \"\"}}, \"colorscale\": {\"diverging\": [[0, \"#8e0152\"], [0.1, \"#c51b7d\"], [0.2, \"#de77ae\"], [0.3, \"#f1b6da\"], [0.4, \"#fde0ef\"], [0.5, \"#f7f7f7\"], [0.6, \"#e6f5d0\"], [0.7, \"#b8e186\"], [0.8, \"#7fbc41\"], [0.9, \"#4d9221\"], [1, \"#276419\"]], \"sequential\": [[0.0, \"#0d0887\"], [0.1111111111111111, \"#46039f\"], [0.2222222222222222, \"#7201a8\"], [0.3333333333333333, \"#9c179e\"], [0.4444444444444444, \"#bd3786\"], [0.5555555555555556, \"#d8576b\"], [0.6666666666666666, \"#ed7953\"], [0.7777777777777778, \"#fb9f3a\"], [0.8888888888888888, \"#fdca26\"], [1.0, \"#f0f921\"]], \"sequentialminus\": [[0.0, \"#0d0887\"], [0.1111111111111111, \"#46039f\"], [0.2222222222222222, \"#7201a8\"], [0.3333333333333333, \"#9c179e\"], [0.4444444444444444, \"#bd3786\"], [0.5555555555555556, \"#d8576b\"], [0.6666666666666666, \"#ed7953\"], [0.7777777777777778, \"#fb9f3a\"], [0.8888888888888888, \"#fdca26\"], [1.0, \"#f0f921\"]]}, \"colorway\": [\"#636efa\", \"#EF553B\", \"#00cc96\", \"#ab63fa\", \"#FFA15A\", \"#19d3f3\", \"#FF6692\", \"#B6E880\", \"#FF97FF\", \"#FECB52\"], \"font\": {\"color\": \"#2a3f5f\"}, \"geo\": {\"bgcolor\": \"white\", \"lakecolor\": \"white\", \"landcolor\": \"#E5ECF6\", \"showlakes\": true, \"showland\": true, \"subunitcolor\": \"white\"}, \"hoverlabel\": {\"align\": \"left\"}, \"hovermode\": \"closest\", \"mapbox\": {\"style\": \"light\"}, \"paper_bgcolor\": \"white\", \"plot_bgcolor\": \"#E5ECF6\", \"polar\": {\"angularaxis\": {\"gridcolor\": \"white\", \"linecolor\": \"white\", \"ticks\": \"\"}, \"bgcolor\": \"#E5ECF6\", \"radialaxis\": {\"gridcolor\": \"white\", \"linecolor\": \"white\", \"ticks\": \"\"}}, \"scene\": {\"xaxis\": {\"backgroundcolor\": \"#E5ECF6\", \"gridcolor\": \"white\", \"gridwidth\": 2, \"linecolor\": \"white\", \"showbackground\": true, \"ticks\": \"\", \"zerolinecolor\": \"white\"}, \"yaxis\": {\"backgroundcolor\": \"#E5ECF6\", \"gridcolor\": \"white\", \"gridwidth\": 2, \"linecolor\": \"white\", \"showbackground\": true, \"ticks\": \"\", \"zerolinecolor\": \"white\"}, \"zaxis\": {\"backgroundcolor\": \"#E5ECF6\", \"gridcolor\": \"white\", \"gridwidth\": 2, \"linecolor\": \"white\", \"showbackground\": true, \"ticks\": \"\", \"zerolinecolor\": \"white\"}}, \"shapedefaults\": {\"line\": {\"color\": \"#2a3f5f\"}}, \"ternary\": {\"aaxis\": {\"gridcolor\": \"white\", \"linecolor\": \"white\", \"ticks\": \"\"}, \"baxis\": {\"gridcolor\": \"white\", \"linecolor\": \"white\", \"ticks\": \"\"}, \"bgcolor\": \"#E5ECF6\", \"caxis\": {\"gridcolor\": \"white\", \"linecolor\": \"white\", \"ticks\": \"\"}}, \"title\": {\"x\": 0.05}, \"xaxis\": {\"automargin\": true, \"gridcolor\": \"white\", \"linecolor\": \"white\", \"ticks\": \"\", \"title\": {\"standoff\": 15}, \"zerolinecolor\": \"white\", \"zerolinewidth\": 2}, \"yaxis\": {\"automargin\": true, \"gridcolor\": \"white\", \"linecolor\": \"white\", \"ticks\": \"\", \"title\": {\"standoff\": 15}, \"zerolinecolor\": \"white\", \"zerolinewidth\": 2}}}, \"title\": {\"text\": \"Analisis edad y fumadores- mueren o sobreviven\"}, \"violinmode\": \"group\", \"xaxis\": {\"anchor\": \"y\", \"domain\": [0.0, 1.0], \"title\": {\"text\": \"smoking\"}}, \"yaxis\": {\"anchor\": \"x\", \"domain\": [0.0, 1.0], \"title\": {\"text\": \"age\"}}},\n",
              "                        {\"responsive\": true}\n",
              "                    ).then(function(){\n",
              "                            \n",
              "var gd = document.getElementById('9c79b1b3-6dfe-4029-9141-5b7ccb087136');\n",
              "var x = new MutationObserver(function (mutations, observer) {{\n",
              "        var display = window.getComputedStyle(gd).display;\n",
              "        if (!display || display === 'none') {{\n",
              "            console.log([gd, 'removed!']);\n",
              "            Plotly.purge(gd);\n",
              "            observer.disconnect();\n",
              "        }}\n",
              "}});\n",
              "\n",
              "// Listen for the removal of the full notebook cells\n",
              "var notebookContainer = gd.closest('#notebook-container');\n",
              "if (notebookContainer) {{\n",
              "    x.observe(notebookContainer, {childList: true});\n",
              "}}\n",
              "\n",
              "// Listen for the clearing of the current output cell\n",
              "var outputEl = gd.closest('.output');\n",
              "if (outputEl) {{\n",
              "    x.observe(outputEl, {childList: true});\n",
              "}}\n",
              "\n",
              "                        })\n",
              "                };\n",
              "                \n",
              "            </script>\n",
              "        </div>\n",
              "</body>\n",
              "</html>"
            ]
          },
          "metadata": {
            "tags": []
          }
        }
      ]
    },
    {
      "cell_type": "code",
      "metadata": {
        "id": "O6IANAU9_5UE",
        "outputId": "a3f5032a-0fd6-4586-fa45-9f9c7e6c5a9f",
        "colab": {
          "base_uri": "https://localhost:8080/",
          "height": 1000
        }
      },
      "source": [
        "'''analizaremos cuantas personas fuman y no fuman.'''\n",
        "\n",
        "fuma = pincardi[pincardi['smoking']==1]\n",
        "no_fuma = pincardi[pincardi['smoking']==0]\n",
        "\n",
        "labels = ['No fuma','fuma']\n",
        "values = [len(no_fuma), len(fuma)]\n",
        "\n",
        "fig = go.Figure(data=[go.Pie(labels=labels, values=values, hole=.4)])\n",
        "fig.update_layout(title_text=\"no fuma - fuma\")\n",
        "fig.show()\n",
        "\n",
        "#generraremos una Razón de eventos de muerte por tabaquismo \n",
        "fig = px.pie(pincardi, values='smoking',names='DEATH_EVENT', title='Eventos de muerte por fumar')\n",
        "fig.show()"
      ],
      "execution_count": 237,
      "outputs": [
        {
          "output_type": "display_data",
          "data": {
            "text/html": [
              "<html>\n",
              "<head><meta charset=\"utf-8\" /></head>\n",
              "<body>\n",
              "    <div>\n",
              "            <script src=\"https://cdnjs.cloudflare.com/ajax/libs/mathjax/2.7.5/MathJax.js?config=TeX-AMS-MML_SVG\"></script><script type=\"text/javascript\">if (window.MathJax) {MathJax.Hub.Config({SVG: {font: \"STIX-Web\"}});}</script>\n",
              "                <script type=\"text/javascript\">window.PlotlyConfig = {MathJaxConfig: 'local'};</script>\n",
              "        <script src=\"https://cdn.plot.ly/plotly-latest.min.js\"></script>    \n",
              "            <div id=\"fcfe4386-ef4d-413f-832b-8da987ff68ee\" class=\"plotly-graph-div\" style=\"height:525px; width:100%;\"></div>\n",
              "            <script type=\"text/javascript\">\n",
              "                \n",
              "                    window.PLOTLYENV=window.PLOTLYENV || {};\n",
              "                    \n",
              "                if (document.getElementById(\"fcfe4386-ef4d-413f-832b-8da987ff68ee\")) {\n",
              "                    Plotly.newPlot(\n",
              "                        'fcfe4386-ef4d-413f-832b-8da987ff68ee',\n",
              "                        [{\"hole\": 0.4, \"labels\": [\"No fuma\", \"fuma\"], \"type\": \"pie\", \"values\": [203, 96]}],\n",
              "                        {\"template\": {\"data\": {\"bar\": [{\"error_x\": {\"color\": \"#2a3f5f\"}, \"error_y\": {\"color\": \"#2a3f5f\"}, \"marker\": {\"line\": {\"color\": \"#E5ECF6\", \"width\": 0.5}}, \"type\": \"bar\"}], \"barpolar\": [{\"marker\": {\"line\": {\"color\": \"#E5ECF6\", \"width\": 0.5}}, \"type\": \"barpolar\"}], \"carpet\": [{\"aaxis\": {\"endlinecolor\": \"#2a3f5f\", \"gridcolor\": \"white\", \"linecolor\": \"white\", \"minorgridcolor\": \"white\", \"startlinecolor\": \"#2a3f5f\"}, \"baxis\": {\"endlinecolor\": \"#2a3f5f\", \"gridcolor\": \"white\", \"linecolor\": \"white\", \"minorgridcolor\": \"white\", \"startlinecolor\": \"#2a3f5f\"}, \"type\": \"carpet\"}], \"choropleth\": [{\"colorbar\": {\"outlinewidth\": 0, \"ticks\": \"\"}, \"type\": \"choropleth\"}], \"contour\": [{\"colorbar\": {\"outlinewidth\": 0, \"ticks\": \"\"}, \"colorscale\": [[0.0, \"#0d0887\"], [0.1111111111111111, \"#46039f\"], [0.2222222222222222, \"#7201a8\"], [0.3333333333333333, \"#9c179e\"], [0.4444444444444444, \"#bd3786\"], [0.5555555555555556, \"#d8576b\"], [0.6666666666666666, \"#ed7953\"], [0.7777777777777778, \"#fb9f3a\"], [0.8888888888888888, \"#fdca26\"], [1.0, \"#f0f921\"]], \"type\": \"contour\"}], \"contourcarpet\": [{\"colorbar\": {\"outlinewidth\": 0, \"ticks\": \"\"}, \"type\": \"contourcarpet\"}], \"heatmap\": [{\"colorbar\": {\"outlinewidth\": 0, \"ticks\": \"\"}, \"colorscale\": [[0.0, \"#0d0887\"], [0.1111111111111111, \"#46039f\"], [0.2222222222222222, \"#7201a8\"], [0.3333333333333333, \"#9c179e\"], [0.4444444444444444, \"#bd3786\"], [0.5555555555555556, \"#d8576b\"], [0.6666666666666666, \"#ed7953\"], [0.7777777777777778, \"#fb9f3a\"], [0.8888888888888888, \"#fdca26\"], [1.0, \"#f0f921\"]], \"type\": \"heatmap\"}], \"heatmapgl\": [{\"colorbar\": {\"outlinewidth\": 0, \"ticks\": \"\"}, \"colorscale\": [[0.0, \"#0d0887\"], [0.1111111111111111, \"#46039f\"], [0.2222222222222222, \"#7201a8\"], [0.3333333333333333, \"#9c179e\"], [0.4444444444444444, \"#bd3786\"], [0.5555555555555556, \"#d8576b\"], [0.6666666666666666, \"#ed7953\"], [0.7777777777777778, \"#fb9f3a\"], [0.8888888888888888, \"#fdca26\"], [1.0, \"#f0f921\"]], \"type\": \"heatmapgl\"}], \"histogram\": [{\"marker\": {\"colorbar\": {\"outlinewidth\": 0, \"ticks\": \"\"}}, \"type\": \"histogram\"}], \"histogram2d\": [{\"colorbar\": {\"outlinewidth\": 0, \"ticks\": \"\"}, \"colorscale\": [[0.0, \"#0d0887\"], [0.1111111111111111, \"#46039f\"], [0.2222222222222222, \"#7201a8\"], [0.3333333333333333, \"#9c179e\"], [0.4444444444444444, \"#bd3786\"], [0.5555555555555556, \"#d8576b\"], [0.6666666666666666, \"#ed7953\"], [0.7777777777777778, \"#fb9f3a\"], [0.8888888888888888, \"#fdca26\"], [1.0, \"#f0f921\"]], \"type\": \"histogram2d\"}], \"histogram2dcontour\": [{\"colorbar\": {\"outlinewidth\": 0, \"ticks\": \"\"}, \"colorscale\": [[0.0, \"#0d0887\"], [0.1111111111111111, \"#46039f\"], [0.2222222222222222, \"#7201a8\"], [0.3333333333333333, \"#9c179e\"], [0.4444444444444444, \"#bd3786\"], [0.5555555555555556, \"#d8576b\"], [0.6666666666666666, \"#ed7953\"], [0.7777777777777778, \"#fb9f3a\"], [0.8888888888888888, \"#fdca26\"], [1.0, \"#f0f921\"]], \"type\": \"histogram2dcontour\"}], \"mesh3d\": [{\"colorbar\": {\"outlinewidth\": 0, \"ticks\": \"\"}, \"type\": \"mesh3d\"}], \"parcoords\": [{\"line\": {\"colorbar\": {\"outlinewidth\": 0, \"ticks\": \"\"}}, \"type\": \"parcoords\"}], \"pie\": [{\"automargin\": true, \"type\": \"pie\"}], \"scatter\": [{\"marker\": {\"colorbar\": {\"outlinewidth\": 0, \"ticks\": \"\"}}, \"type\": \"scatter\"}], \"scatter3d\": [{\"line\": {\"colorbar\": {\"outlinewidth\": 0, \"ticks\": \"\"}}, \"marker\": {\"colorbar\": {\"outlinewidth\": 0, \"ticks\": \"\"}}, \"type\": \"scatter3d\"}], \"scattercarpet\": [{\"marker\": {\"colorbar\": {\"outlinewidth\": 0, \"ticks\": \"\"}}, \"type\": \"scattercarpet\"}], \"scattergeo\": [{\"marker\": {\"colorbar\": {\"outlinewidth\": 0, \"ticks\": \"\"}}, \"type\": \"scattergeo\"}], \"scattergl\": [{\"marker\": {\"colorbar\": {\"outlinewidth\": 0, \"ticks\": \"\"}}, \"type\": \"scattergl\"}], \"scattermapbox\": [{\"marker\": {\"colorbar\": {\"outlinewidth\": 0, \"ticks\": \"\"}}, \"type\": \"scattermapbox\"}], \"scatterpolar\": [{\"marker\": {\"colorbar\": {\"outlinewidth\": 0, \"ticks\": \"\"}}, \"type\": \"scatterpolar\"}], \"scatterpolargl\": [{\"marker\": {\"colorbar\": {\"outlinewidth\": 0, \"ticks\": \"\"}}, \"type\": \"scatterpolargl\"}], \"scatterternary\": [{\"marker\": {\"colorbar\": {\"outlinewidth\": 0, \"ticks\": \"\"}}, \"type\": \"scatterternary\"}], \"surface\": [{\"colorbar\": {\"outlinewidth\": 0, \"ticks\": \"\"}, \"colorscale\": [[0.0, \"#0d0887\"], [0.1111111111111111, \"#46039f\"], [0.2222222222222222, \"#7201a8\"], [0.3333333333333333, \"#9c179e\"], [0.4444444444444444, \"#bd3786\"], [0.5555555555555556, \"#d8576b\"], [0.6666666666666666, \"#ed7953\"], [0.7777777777777778, \"#fb9f3a\"], [0.8888888888888888, \"#fdca26\"], [1.0, \"#f0f921\"]], \"type\": \"surface\"}], \"table\": [{\"cells\": {\"fill\": {\"color\": \"#EBF0F8\"}, \"line\": {\"color\": \"white\"}}, \"header\": {\"fill\": {\"color\": \"#C8D4E3\"}, \"line\": {\"color\": \"white\"}}, \"type\": \"table\"}]}, \"layout\": {\"annotationdefaults\": {\"arrowcolor\": \"#2a3f5f\", \"arrowhead\": 0, \"arrowwidth\": 1}, \"coloraxis\": {\"colorbar\": {\"outlinewidth\": 0, \"ticks\": \"\"}}, \"colorscale\": {\"diverging\": [[0, \"#8e0152\"], [0.1, \"#c51b7d\"], [0.2, \"#de77ae\"], [0.3, \"#f1b6da\"], [0.4, \"#fde0ef\"], [0.5, \"#f7f7f7\"], [0.6, \"#e6f5d0\"], [0.7, \"#b8e186\"], [0.8, \"#7fbc41\"], [0.9, \"#4d9221\"], [1, \"#276419\"]], \"sequential\": [[0.0, \"#0d0887\"], [0.1111111111111111, \"#46039f\"], [0.2222222222222222, \"#7201a8\"], [0.3333333333333333, \"#9c179e\"], [0.4444444444444444, \"#bd3786\"], [0.5555555555555556, \"#d8576b\"], [0.6666666666666666, \"#ed7953\"], [0.7777777777777778, \"#fb9f3a\"], [0.8888888888888888, \"#fdca26\"], [1.0, \"#f0f921\"]], \"sequentialminus\": [[0.0, \"#0d0887\"], [0.1111111111111111, \"#46039f\"], [0.2222222222222222, \"#7201a8\"], [0.3333333333333333, \"#9c179e\"], [0.4444444444444444, \"#bd3786\"], [0.5555555555555556, \"#d8576b\"], [0.6666666666666666, \"#ed7953\"], [0.7777777777777778, \"#fb9f3a\"], [0.8888888888888888, \"#fdca26\"], [1.0, \"#f0f921\"]]}, \"colorway\": [\"#636efa\", \"#EF553B\", \"#00cc96\", \"#ab63fa\", \"#FFA15A\", \"#19d3f3\", \"#FF6692\", \"#B6E880\", \"#FF97FF\", \"#FECB52\"], \"font\": {\"color\": \"#2a3f5f\"}, \"geo\": {\"bgcolor\": \"white\", \"lakecolor\": \"white\", \"landcolor\": \"#E5ECF6\", \"showlakes\": true, \"showland\": true, \"subunitcolor\": \"white\"}, \"hoverlabel\": {\"align\": \"left\"}, \"hovermode\": \"closest\", \"mapbox\": {\"style\": \"light\"}, \"paper_bgcolor\": \"white\", \"plot_bgcolor\": \"#E5ECF6\", \"polar\": {\"angularaxis\": {\"gridcolor\": \"white\", \"linecolor\": \"white\", \"ticks\": \"\"}, \"bgcolor\": \"#E5ECF6\", \"radialaxis\": {\"gridcolor\": \"white\", \"linecolor\": \"white\", \"ticks\": \"\"}}, \"scene\": {\"xaxis\": {\"backgroundcolor\": \"#E5ECF6\", \"gridcolor\": \"white\", \"gridwidth\": 2, \"linecolor\": \"white\", \"showbackground\": true, \"ticks\": \"\", \"zerolinecolor\": \"white\"}, \"yaxis\": {\"backgroundcolor\": \"#E5ECF6\", \"gridcolor\": \"white\", \"gridwidth\": 2, \"linecolor\": \"white\", \"showbackground\": true, \"ticks\": \"\", \"zerolinecolor\": \"white\"}, \"zaxis\": {\"backgroundcolor\": \"#E5ECF6\", \"gridcolor\": \"white\", \"gridwidth\": 2, \"linecolor\": \"white\", \"showbackground\": true, \"ticks\": \"\", \"zerolinecolor\": \"white\"}}, \"shapedefaults\": {\"line\": {\"color\": \"#2a3f5f\"}}, \"ternary\": {\"aaxis\": {\"gridcolor\": \"white\", \"linecolor\": \"white\", \"ticks\": \"\"}, \"baxis\": {\"gridcolor\": \"white\", \"linecolor\": \"white\", \"ticks\": \"\"}, \"bgcolor\": \"#E5ECF6\", \"caxis\": {\"gridcolor\": \"white\", \"linecolor\": \"white\", \"ticks\": \"\"}}, \"title\": {\"x\": 0.05}, \"xaxis\": {\"automargin\": true, \"gridcolor\": \"white\", \"linecolor\": \"white\", \"ticks\": \"\", \"title\": {\"standoff\": 15}, \"zerolinecolor\": \"white\", \"zerolinewidth\": 2}, \"yaxis\": {\"automargin\": true, \"gridcolor\": \"white\", \"linecolor\": \"white\", \"ticks\": \"\", \"title\": {\"standoff\": 15}, \"zerolinecolor\": \"white\", \"zerolinewidth\": 2}}}, \"title\": {\"text\": \"no fuma - fuma\"}},\n",
              "                        {\"responsive\": true}\n",
              "                    ).then(function(){\n",
              "                            \n",
              "var gd = document.getElementById('fcfe4386-ef4d-413f-832b-8da987ff68ee');\n",
              "var x = new MutationObserver(function (mutations, observer) {{\n",
              "        var display = window.getComputedStyle(gd).display;\n",
              "        if (!display || display === 'none') {{\n",
              "            console.log([gd, 'removed!']);\n",
              "            Plotly.purge(gd);\n",
              "            observer.disconnect();\n",
              "        }}\n",
              "}});\n",
              "\n",
              "// Listen for the removal of the full notebook cells\n",
              "var notebookContainer = gd.closest('#notebook-container');\n",
              "if (notebookContainer) {{\n",
              "    x.observe(notebookContainer, {childList: true});\n",
              "}}\n",
              "\n",
              "// Listen for the clearing of the current output cell\n",
              "var outputEl = gd.closest('.output');\n",
              "if (outputEl) {{\n",
              "    x.observe(outputEl, {childList: true});\n",
              "}}\n",
              "\n",
              "                        })\n",
              "                };\n",
              "                \n",
              "            </script>\n",
              "        </div>\n",
              "</body>\n",
              "</html>"
            ]
          },
          "metadata": {
            "tags": []
          }
        },
        {
          "output_type": "display_data",
          "data": {
            "text/html": [
              "<html>\n",
              "<head><meta charset=\"utf-8\" /></head>\n",
              "<body>\n",
              "    <div>\n",
              "            <script src=\"https://cdnjs.cloudflare.com/ajax/libs/mathjax/2.7.5/MathJax.js?config=TeX-AMS-MML_SVG\"></script><script type=\"text/javascript\">if (window.MathJax) {MathJax.Hub.Config({SVG: {font: \"STIX-Web\"}});}</script>\n",
              "                <script type=\"text/javascript\">window.PlotlyConfig = {MathJaxConfig: 'local'};</script>\n",
              "        <script src=\"https://cdn.plot.ly/plotly-latest.min.js\"></script>    \n",
              "            <div id=\"53feec08-8d9f-4b00-9d97-201a10735f49\" class=\"plotly-graph-div\" style=\"height:525px; width:100%;\"></div>\n",
              "            <script type=\"text/javascript\">\n",
              "                \n",
              "                    window.PLOTLYENV=window.PLOTLYENV || {};\n",
              "                    \n",
              "                if (document.getElementById(\"53feec08-8d9f-4b00-9d97-201a10735f49\")) {\n",
              "                    Plotly.newPlot(\n",
              "                        '53feec08-8d9f-4b00-9d97-201a10735f49',\n",
              "                        [{\"domain\": {\"x\": [0.0, 1.0], \"y\": [0.0, 1.0]}, \"hoverlabel\": {\"namelength\": 0}, \"hovertemplate\": \"DEATH_EVENT=%{label}<br>smoking=%{value}\", \"labels\": [1, 1, 1, 1, 1, 1, 1, 1, 1, 1, 1, 1, 1, 1, 0, 1, 1, 1, 1, 1, 0, 1, 1, 0, 1, 1, 1, 1, 1, 1, 1, 1, 1, 0, 1, 1, 1, 1, 0, 1, 1, 1, 1, 0, 1, 1, 1, 1, 1, 1, 1, 1, 1, 1, 1, 1, 0, 0, 1, 1, 1, 1, 0, 1, 0, 1, 1, 1, 1, 1, 0, 0, 1, 0, 1, 1, 0, 0, 0, 0, 0, 0, 1, 0, 1, 0, 0, 0, 0, 0, 0, 0, 0, 1, 0, 0, 0, 0, 0, 0, 0, 0, 0, 0, 0, 1, 0, 0, 0, 0, 1, 0, 0, 1, 0, 0, 0, 0, 0, 1, 0, 0, 0, 0, 1, 0, 1, 0, 0, 0, 0, 0, 0, 0, 0, 0, 0, 0, 0, 0, 1, 0, 0, 0, 1, 0, 0, 0, 1, 0, 1, 0, 0, 0, 0, 0, 0, 0, 0, 0, 0, 0, 0, 1, 1, 1, 0, 1, 0, 0, 0, 0, 0, 0, 0, 0, 0, 0, 0, 0, 0, 1, 1, 1, 1, 1, 1, 1, 0, 0, 0, 0, 0, 0, 1, 1, 0, 0, 0, 0, 0, 0, 0, 0, 0, 0, 0, 0, 0, 0, 0, 0, 0, 1, 0, 0, 0, 1, 0, 0, 1, 0, 0, 0, 0, 0, 0, 0, 0, 0, 1, 0, 0, 0, 0, 0, 0, 0, 0, 0, 0, 0, 0, 0, 0, 0, 1, 0, 0, 0, 0, 0, 0, 0, 0, 0, 0, 0, 0, 0, 0, 0, 1, 0, 0, 0, 1, 0, 0, 0, 0, 0, 0, 0, 0, 0, 0, 0, 0, 0, 0, 0, 0, 0, 0, 0, 0, 0, 0, 0, 0, 0, 0, 0, 0, 0, 0, 0, 0], \"legendgroup\": \"\", \"name\": \"\", \"showlegend\": true, \"type\": \"pie\", \"values\": [0, 0, 1, 0, 0, 1, 0, 1, 0, 1, 1, 1, 0, 0, 0, 0, 0, 0, 0, 0, 0, 0, 1, 0, 0, 1, 0, 1, 0, 1, 0, 0, 0, 0, 0, 0, 0, 0, 0, 0, 1, 1, 1, 0, 0, 1, 0, 1, 0, 0, 0, 0, 0, 0, 1, 0, 1, 1, 1, 1, 0, 0, 1, 0, 0, 1, 0, 1, 0, 0, 1, 1, 1, 1, 1, 1, 1, 0, 1, 0, 0, 1, 0, 0, 0, 0, 0, 0, 0, 0, 1, 0, 0, 0, 0, 0, 0, 0, 0, 0, 0, 0, 1, 1, 0, 1, 0, 0, 1, 1, 1, 1, 0, 0, 0, 0, 0, 0, 0, 0, 1, 0, 0, 0, 0, 0, 0, 0, 1, 0, 1, 0, 0, 1, 1, 0, 0, 0, 0, 0, 0, 0, 0, 0, 1, 1, 1, 0, 0, 0, 0, 0, 1, 1, 0, 0, 0, 1, 0, 1, 0, 1, 1, 0, 0, 0, 1, 0, 0, 0, 1, 1, 1, 0, 1, 1, 1, 0, 0, 1, 0, 1, 1, 0, 1, 0, 0, 0, 0, 0, 0, 0, 0, 1, 0, 0, 0, 0, 0, 1, 0, 0, 0, 1, 1, 0, 0, 0, 0, 0, 1, 1, 1, 0, 0, 0, 0, 0, 0, 0, 0, 1, 1, 0, 0, 0, 1, 0, 0, 0, 0, 1, 0, 1, 1, 0, 0, 0, 0, 1, 0, 1, 1, 0, 0, 0, 0, 0, 1, 0, 0, 0, 0, 0, 0, 1, 0, 0, 0, 1, 0, 0, 0, 0, 0, 1, 1, 0, 0, 0, 1, 0, 0, 0, 1, 0, 0, 0, 0, 0, 0, 1, 1, 1, 0, 0, 0, 0, 0, 0, 0, 0, 1, 1, 1, 0, 0, 1, 1]}],\n",
              "                        {\"legend\": {\"tracegroupgap\": 0}, \"template\": {\"data\": {\"bar\": [{\"error_x\": {\"color\": \"#2a3f5f\"}, \"error_y\": {\"color\": \"#2a3f5f\"}, \"marker\": {\"line\": {\"color\": \"#E5ECF6\", \"width\": 0.5}}, \"type\": \"bar\"}], \"barpolar\": [{\"marker\": {\"line\": {\"color\": \"#E5ECF6\", \"width\": 0.5}}, \"type\": \"barpolar\"}], \"carpet\": [{\"aaxis\": {\"endlinecolor\": \"#2a3f5f\", \"gridcolor\": \"white\", \"linecolor\": \"white\", \"minorgridcolor\": \"white\", \"startlinecolor\": \"#2a3f5f\"}, \"baxis\": {\"endlinecolor\": \"#2a3f5f\", \"gridcolor\": \"white\", \"linecolor\": \"white\", \"minorgridcolor\": \"white\", \"startlinecolor\": \"#2a3f5f\"}, \"type\": \"carpet\"}], \"choropleth\": [{\"colorbar\": {\"outlinewidth\": 0, \"ticks\": \"\"}, \"type\": \"choropleth\"}], \"contour\": [{\"colorbar\": {\"outlinewidth\": 0, \"ticks\": \"\"}, \"colorscale\": [[0.0, \"#0d0887\"], [0.1111111111111111, \"#46039f\"], [0.2222222222222222, \"#7201a8\"], [0.3333333333333333, \"#9c179e\"], [0.4444444444444444, \"#bd3786\"], [0.5555555555555556, \"#d8576b\"], [0.6666666666666666, \"#ed7953\"], [0.7777777777777778, \"#fb9f3a\"], [0.8888888888888888, \"#fdca26\"], [1.0, \"#f0f921\"]], \"type\": \"contour\"}], \"contourcarpet\": [{\"colorbar\": {\"outlinewidth\": 0, \"ticks\": \"\"}, \"type\": \"contourcarpet\"}], \"heatmap\": [{\"colorbar\": {\"outlinewidth\": 0, \"ticks\": \"\"}, \"colorscale\": [[0.0, \"#0d0887\"], [0.1111111111111111, \"#46039f\"], [0.2222222222222222, \"#7201a8\"], [0.3333333333333333, \"#9c179e\"], [0.4444444444444444, \"#bd3786\"], [0.5555555555555556, \"#d8576b\"], [0.6666666666666666, \"#ed7953\"], [0.7777777777777778, \"#fb9f3a\"], [0.8888888888888888, \"#fdca26\"], [1.0, \"#f0f921\"]], \"type\": \"heatmap\"}], \"heatmapgl\": [{\"colorbar\": {\"outlinewidth\": 0, \"ticks\": \"\"}, \"colorscale\": [[0.0, \"#0d0887\"], [0.1111111111111111, \"#46039f\"], [0.2222222222222222, \"#7201a8\"], [0.3333333333333333, \"#9c179e\"], [0.4444444444444444, \"#bd3786\"], [0.5555555555555556, \"#d8576b\"], [0.6666666666666666, \"#ed7953\"], [0.7777777777777778, \"#fb9f3a\"], [0.8888888888888888, \"#fdca26\"], [1.0, \"#f0f921\"]], \"type\": \"heatmapgl\"}], \"histogram\": [{\"marker\": {\"colorbar\": {\"outlinewidth\": 0, \"ticks\": \"\"}}, \"type\": \"histogram\"}], \"histogram2d\": [{\"colorbar\": {\"outlinewidth\": 0, \"ticks\": \"\"}, \"colorscale\": [[0.0, \"#0d0887\"], [0.1111111111111111, \"#46039f\"], [0.2222222222222222, \"#7201a8\"], [0.3333333333333333, \"#9c179e\"], [0.4444444444444444, \"#bd3786\"], [0.5555555555555556, \"#d8576b\"], [0.6666666666666666, \"#ed7953\"], [0.7777777777777778, \"#fb9f3a\"], [0.8888888888888888, \"#fdca26\"], [1.0, \"#f0f921\"]], \"type\": \"histogram2d\"}], \"histogram2dcontour\": [{\"colorbar\": {\"outlinewidth\": 0, \"ticks\": \"\"}, \"colorscale\": [[0.0, \"#0d0887\"], [0.1111111111111111, \"#46039f\"], [0.2222222222222222, \"#7201a8\"], [0.3333333333333333, \"#9c179e\"], [0.4444444444444444, \"#bd3786\"], [0.5555555555555556, \"#d8576b\"], [0.6666666666666666, \"#ed7953\"], [0.7777777777777778, \"#fb9f3a\"], [0.8888888888888888, \"#fdca26\"], [1.0, \"#f0f921\"]], \"type\": \"histogram2dcontour\"}], \"mesh3d\": [{\"colorbar\": {\"outlinewidth\": 0, \"ticks\": \"\"}, \"type\": \"mesh3d\"}], \"parcoords\": [{\"line\": {\"colorbar\": {\"outlinewidth\": 0, \"ticks\": \"\"}}, \"type\": \"parcoords\"}], \"pie\": [{\"automargin\": true, \"type\": \"pie\"}], \"scatter\": [{\"marker\": {\"colorbar\": {\"outlinewidth\": 0, \"ticks\": \"\"}}, \"type\": \"scatter\"}], \"scatter3d\": [{\"line\": {\"colorbar\": {\"outlinewidth\": 0, \"ticks\": \"\"}}, \"marker\": {\"colorbar\": {\"outlinewidth\": 0, \"ticks\": \"\"}}, \"type\": \"scatter3d\"}], \"scattercarpet\": [{\"marker\": {\"colorbar\": {\"outlinewidth\": 0, \"ticks\": \"\"}}, \"type\": \"scattercarpet\"}], \"scattergeo\": [{\"marker\": {\"colorbar\": {\"outlinewidth\": 0, \"ticks\": \"\"}}, \"type\": \"scattergeo\"}], \"scattergl\": [{\"marker\": {\"colorbar\": {\"outlinewidth\": 0, \"ticks\": \"\"}}, \"type\": \"scattergl\"}], \"scattermapbox\": [{\"marker\": {\"colorbar\": {\"outlinewidth\": 0, \"ticks\": \"\"}}, \"type\": \"scattermapbox\"}], \"scatterpolar\": [{\"marker\": {\"colorbar\": {\"outlinewidth\": 0, \"ticks\": \"\"}}, \"type\": \"scatterpolar\"}], \"scatterpolargl\": [{\"marker\": {\"colorbar\": {\"outlinewidth\": 0, \"ticks\": \"\"}}, \"type\": \"scatterpolargl\"}], \"scatterternary\": [{\"marker\": {\"colorbar\": {\"outlinewidth\": 0, \"ticks\": \"\"}}, \"type\": \"scatterternary\"}], \"surface\": [{\"colorbar\": {\"outlinewidth\": 0, \"ticks\": \"\"}, \"colorscale\": [[0.0, \"#0d0887\"], [0.1111111111111111, \"#46039f\"], [0.2222222222222222, \"#7201a8\"], [0.3333333333333333, \"#9c179e\"], [0.4444444444444444, \"#bd3786\"], [0.5555555555555556, \"#d8576b\"], [0.6666666666666666, \"#ed7953\"], [0.7777777777777778, \"#fb9f3a\"], [0.8888888888888888, \"#fdca26\"], [1.0, \"#f0f921\"]], \"type\": \"surface\"}], \"table\": [{\"cells\": {\"fill\": {\"color\": \"#EBF0F8\"}, \"line\": {\"color\": \"white\"}}, \"header\": {\"fill\": {\"color\": \"#C8D4E3\"}, \"line\": {\"color\": \"white\"}}, \"type\": \"table\"}]}, \"layout\": {\"annotationdefaults\": {\"arrowcolor\": \"#2a3f5f\", \"arrowhead\": 0, \"arrowwidth\": 1}, \"coloraxis\": {\"colorbar\": {\"outlinewidth\": 0, \"ticks\": \"\"}}, \"colorscale\": {\"diverging\": [[0, \"#8e0152\"], [0.1, \"#c51b7d\"], [0.2, \"#de77ae\"], [0.3, \"#f1b6da\"], [0.4, \"#fde0ef\"], [0.5, \"#f7f7f7\"], [0.6, \"#e6f5d0\"], [0.7, \"#b8e186\"], [0.8, \"#7fbc41\"], [0.9, \"#4d9221\"], [1, \"#276419\"]], \"sequential\": [[0.0, \"#0d0887\"], [0.1111111111111111, \"#46039f\"], [0.2222222222222222, \"#7201a8\"], [0.3333333333333333, \"#9c179e\"], [0.4444444444444444, \"#bd3786\"], [0.5555555555555556, \"#d8576b\"], [0.6666666666666666, \"#ed7953\"], [0.7777777777777778, \"#fb9f3a\"], [0.8888888888888888, \"#fdca26\"], [1.0, \"#f0f921\"]], \"sequentialminus\": [[0.0, \"#0d0887\"], [0.1111111111111111, \"#46039f\"], [0.2222222222222222, \"#7201a8\"], [0.3333333333333333, \"#9c179e\"], [0.4444444444444444, \"#bd3786\"], [0.5555555555555556, \"#d8576b\"], [0.6666666666666666, \"#ed7953\"], [0.7777777777777778, \"#fb9f3a\"], [0.8888888888888888, \"#fdca26\"], [1.0, \"#f0f921\"]]}, \"colorway\": [\"#636efa\", \"#EF553B\", \"#00cc96\", \"#ab63fa\", \"#FFA15A\", \"#19d3f3\", \"#FF6692\", \"#B6E880\", \"#FF97FF\", \"#FECB52\"], \"font\": {\"color\": \"#2a3f5f\"}, \"geo\": {\"bgcolor\": \"white\", \"lakecolor\": \"white\", \"landcolor\": \"#E5ECF6\", \"showlakes\": true, \"showland\": true, \"subunitcolor\": \"white\"}, \"hoverlabel\": {\"align\": \"left\"}, \"hovermode\": \"closest\", \"mapbox\": {\"style\": \"light\"}, \"paper_bgcolor\": \"white\", \"plot_bgcolor\": \"#E5ECF6\", \"polar\": {\"angularaxis\": {\"gridcolor\": \"white\", \"linecolor\": \"white\", \"ticks\": \"\"}, \"bgcolor\": \"#E5ECF6\", \"radialaxis\": {\"gridcolor\": \"white\", \"linecolor\": \"white\", \"ticks\": \"\"}}, \"scene\": {\"xaxis\": {\"backgroundcolor\": \"#E5ECF6\", \"gridcolor\": \"white\", \"gridwidth\": 2, \"linecolor\": \"white\", \"showbackground\": true, \"ticks\": \"\", \"zerolinecolor\": \"white\"}, \"yaxis\": {\"backgroundcolor\": \"#E5ECF6\", \"gridcolor\": \"white\", \"gridwidth\": 2, \"linecolor\": \"white\", \"showbackground\": true, \"ticks\": \"\", \"zerolinecolor\": \"white\"}, \"zaxis\": {\"backgroundcolor\": \"#E5ECF6\", \"gridcolor\": \"white\", \"gridwidth\": 2, \"linecolor\": \"white\", \"showbackground\": true, \"ticks\": \"\", \"zerolinecolor\": \"white\"}}, \"shapedefaults\": {\"line\": {\"color\": \"#2a3f5f\"}}, \"ternary\": {\"aaxis\": {\"gridcolor\": \"white\", \"linecolor\": \"white\", \"ticks\": \"\"}, \"baxis\": {\"gridcolor\": \"white\", \"linecolor\": \"white\", \"ticks\": \"\"}, \"bgcolor\": \"#E5ECF6\", \"caxis\": {\"gridcolor\": \"white\", \"linecolor\": \"white\", \"ticks\": \"\"}}, \"title\": {\"x\": 0.05}, \"xaxis\": {\"automargin\": true, \"gridcolor\": \"white\", \"linecolor\": \"white\", \"ticks\": \"\", \"title\": {\"standoff\": 15}, \"zerolinecolor\": \"white\", \"zerolinewidth\": 2}, \"yaxis\": {\"automargin\": true, \"gridcolor\": \"white\", \"linecolor\": \"white\", \"ticks\": \"\", \"title\": {\"standoff\": 15}, \"zerolinecolor\": \"white\", \"zerolinewidth\": 2}}}, \"title\": {\"text\": \"Eventos de muerte por fumar\"}},\n",
              "                        {\"responsive\": true}\n",
              "                    ).then(function(){\n",
              "                            \n",
              "var gd = document.getElementById('53feec08-8d9f-4b00-9d97-201a10735f49');\n",
              "var x = new MutationObserver(function (mutations, observer) {{\n",
              "        var display = window.getComputedStyle(gd).display;\n",
              "        if (!display || display === 'none') {{\n",
              "            console.log([gd, 'removed!']);\n",
              "            Plotly.purge(gd);\n",
              "            observer.disconnect();\n",
              "        }}\n",
              "}});\n",
              "\n",
              "// Listen for the removal of the full notebook cells\n",
              "var notebookContainer = gd.closest('#notebook-container');\n",
              "if (notebookContainer) {{\n",
              "    x.observe(notebookContainer, {childList: true});\n",
              "}}\n",
              "\n",
              "// Listen for the clearing of the current output cell\n",
              "var outputEl = gd.closest('.output');\n",
              "if (outputEl) {{\n",
              "    x.observe(outputEl, {childList: true});\n",
              "}}\n",
              "\n",
              "                        })\n",
              "                };\n",
              "                \n",
              "            </script>\n",
              "        </div>\n",
              "</body>\n",
              "</html>"
            ]
          },
          "metadata": {
            "tags": []
          }
        }
      ]
    },
    {
      "cell_type": "code",
      "metadata": {
        "id": "Q0zpnd1_DLZe",
        "outputId": "5ba94033-e999-48d6-a7bc-88027efe742a",
        "colab": {
          "base_uri": "https://localhost:8080/",
          "height": 542
        }
      },
      "source": [
        "#por ultimo un analisis de quienes viven y mueren por fumar o no.\n",
        "\n",
        "smoking_yes_survi = fuma[pincardi[\"DEATH_EVENT\"]==0]\n",
        "smoking_yes_not_survi = fuma[pincardi[\"DEATH_EVENT\"]==1]\n",
        "smoking_no_survi = no_fuma[pincardi[\"DEATH_EVENT\"]==0]\n",
        "smoking_no_not_survi = no_fuma[pincardi[\"DEATH_EVENT\"]==1]\n",
        "\n",
        "labels = ['Fumador - Vive','Fumador - No Vive', 'No Fuma - Vive', 'No Fuma- No Vive']\n",
        "values = [len(fuma[pincardi[\"DEATH_EVENT\"]==0]),len(fuma[pincardi[\"DEATH_EVENT\"]==1]),\n",
        "         len(no_fuma[pincardi[\"DEATH_EVENT\"]==0]),len(no_fuma[pincardi[\"DEATH_EVENT\"]==1])]\n",
        "fig = go.Figure(data=[go.Pie(labels=labels, values=values, hole=.4)])\n",
        "fig.update_layout(title_text=\"Analisi de sobrevivencia-fumadores\")\n",
        "fig.show()"
      ],
      "execution_count": 238,
      "outputs": [
        {
          "output_type": "display_data",
          "data": {
            "text/html": [
              "<html>\n",
              "<head><meta charset=\"utf-8\" /></head>\n",
              "<body>\n",
              "    <div>\n",
              "            <script src=\"https://cdnjs.cloudflare.com/ajax/libs/mathjax/2.7.5/MathJax.js?config=TeX-AMS-MML_SVG\"></script><script type=\"text/javascript\">if (window.MathJax) {MathJax.Hub.Config({SVG: {font: \"STIX-Web\"}});}</script>\n",
              "                <script type=\"text/javascript\">window.PlotlyConfig = {MathJaxConfig: 'local'};</script>\n",
              "        <script src=\"https://cdn.plot.ly/plotly-latest.min.js\"></script>    \n",
              "            <div id=\"7e6b006e-3168-4804-86b4-d17a7a846027\" class=\"plotly-graph-div\" style=\"height:525px; width:100%;\"></div>\n",
              "            <script type=\"text/javascript\">\n",
              "                \n",
              "                    window.PLOTLYENV=window.PLOTLYENV || {};\n",
              "                    \n",
              "                if (document.getElementById(\"7e6b006e-3168-4804-86b4-d17a7a846027\")) {\n",
              "                    Plotly.newPlot(\n",
              "                        '7e6b006e-3168-4804-86b4-d17a7a846027',\n",
              "                        [{\"hole\": 0.4, \"labels\": [\"Fumador - Vive\", \"Fumador - No Vive\", \"No Fuma - Vive\", \"No Fuma- No Vive\"], \"type\": \"pie\", \"values\": [66, 30, 137, 66]}],\n",
              "                        {\"template\": {\"data\": {\"bar\": [{\"error_x\": {\"color\": \"#2a3f5f\"}, \"error_y\": {\"color\": \"#2a3f5f\"}, \"marker\": {\"line\": {\"color\": \"#E5ECF6\", \"width\": 0.5}}, \"type\": \"bar\"}], \"barpolar\": [{\"marker\": {\"line\": {\"color\": \"#E5ECF6\", \"width\": 0.5}}, \"type\": \"barpolar\"}], \"carpet\": [{\"aaxis\": {\"endlinecolor\": \"#2a3f5f\", \"gridcolor\": \"white\", \"linecolor\": \"white\", \"minorgridcolor\": \"white\", \"startlinecolor\": \"#2a3f5f\"}, \"baxis\": {\"endlinecolor\": \"#2a3f5f\", \"gridcolor\": \"white\", \"linecolor\": \"white\", \"minorgridcolor\": \"white\", \"startlinecolor\": \"#2a3f5f\"}, \"type\": \"carpet\"}], \"choropleth\": [{\"colorbar\": {\"outlinewidth\": 0, \"ticks\": \"\"}, \"type\": \"choropleth\"}], \"contour\": [{\"colorbar\": {\"outlinewidth\": 0, \"ticks\": \"\"}, \"colorscale\": [[0.0, \"#0d0887\"], [0.1111111111111111, \"#46039f\"], [0.2222222222222222, \"#7201a8\"], [0.3333333333333333, \"#9c179e\"], [0.4444444444444444, \"#bd3786\"], [0.5555555555555556, \"#d8576b\"], [0.6666666666666666, \"#ed7953\"], [0.7777777777777778, \"#fb9f3a\"], [0.8888888888888888, \"#fdca26\"], [1.0, \"#f0f921\"]], \"type\": \"contour\"}], \"contourcarpet\": [{\"colorbar\": {\"outlinewidth\": 0, \"ticks\": \"\"}, \"type\": \"contourcarpet\"}], \"heatmap\": [{\"colorbar\": {\"outlinewidth\": 0, \"ticks\": \"\"}, \"colorscale\": [[0.0, \"#0d0887\"], [0.1111111111111111, \"#46039f\"], [0.2222222222222222, \"#7201a8\"], [0.3333333333333333, \"#9c179e\"], [0.4444444444444444, \"#bd3786\"], [0.5555555555555556, \"#d8576b\"], [0.6666666666666666, \"#ed7953\"], [0.7777777777777778, \"#fb9f3a\"], [0.8888888888888888, \"#fdca26\"], [1.0, \"#f0f921\"]], \"type\": \"heatmap\"}], \"heatmapgl\": [{\"colorbar\": {\"outlinewidth\": 0, \"ticks\": \"\"}, \"colorscale\": [[0.0, \"#0d0887\"], [0.1111111111111111, \"#46039f\"], [0.2222222222222222, \"#7201a8\"], [0.3333333333333333, \"#9c179e\"], [0.4444444444444444, \"#bd3786\"], [0.5555555555555556, \"#d8576b\"], [0.6666666666666666, \"#ed7953\"], [0.7777777777777778, \"#fb9f3a\"], [0.8888888888888888, \"#fdca26\"], [1.0, \"#f0f921\"]], \"type\": \"heatmapgl\"}], \"histogram\": [{\"marker\": {\"colorbar\": {\"outlinewidth\": 0, \"ticks\": \"\"}}, \"type\": \"histogram\"}], \"histogram2d\": [{\"colorbar\": {\"outlinewidth\": 0, \"ticks\": \"\"}, \"colorscale\": [[0.0, \"#0d0887\"], [0.1111111111111111, \"#46039f\"], [0.2222222222222222, \"#7201a8\"], [0.3333333333333333, \"#9c179e\"], [0.4444444444444444, \"#bd3786\"], [0.5555555555555556, \"#d8576b\"], [0.6666666666666666, \"#ed7953\"], [0.7777777777777778, \"#fb9f3a\"], [0.8888888888888888, \"#fdca26\"], [1.0, \"#f0f921\"]], \"type\": \"histogram2d\"}], \"histogram2dcontour\": [{\"colorbar\": {\"outlinewidth\": 0, \"ticks\": \"\"}, \"colorscale\": [[0.0, \"#0d0887\"], [0.1111111111111111, \"#46039f\"], [0.2222222222222222, \"#7201a8\"], [0.3333333333333333, \"#9c179e\"], [0.4444444444444444, \"#bd3786\"], [0.5555555555555556, \"#d8576b\"], [0.6666666666666666, \"#ed7953\"], [0.7777777777777778, \"#fb9f3a\"], [0.8888888888888888, \"#fdca26\"], [1.0, \"#f0f921\"]], \"type\": \"histogram2dcontour\"}], \"mesh3d\": [{\"colorbar\": {\"outlinewidth\": 0, \"ticks\": \"\"}, \"type\": \"mesh3d\"}], \"parcoords\": [{\"line\": {\"colorbar\": {\"outlinewidth\": 0, \"ticks\": \"\"}}, \"type\": \"parcoords\"}], \"pie\": [{\"automargin\": true, \"type\": \"pie\"}], \"scatter\": [{\"marker\": {\"colorbar\": {\"outlinewidth\": 0, \"ticks\": \"\"}}, \"type\": \"scatter\"}], \"scatter3d\": [{\"line\": {\"colorbar\": {\"outlinewidth\": 0, \"ticks\": \"\"}}, \"marker\": {\"colorbar\": {\"outlinewidth\": 0, \"ticks\": \"\"}}, \"type\": \"scatter3d\"}], \"scattercarpet\": [{\"marker\": {\"colorbar\": {\"outlinewidth\": 0, \"ticks\": \"\"}}, \"type\": \"scattercarpet\"}], \"scattergeo\": [{\"marker\": {\"colorbar\": {\"outlinewidth\": 0, \"ticks\": \"\"}}, \"type\": \"scattergeo\"}], \"scattergl\": [{\"marker\": {\"colorbar\": {\"outlinewidth\": 0, \"ticks\": \"\"}}, \"type\": \"scattergl\"}], \"scattermapbox\": [{\"marker\": {\"colorbar\": {\"outlinewidth\": 0, \"ticks\": \"\"}}, \"type\": \"scattermapbox\"}], \"scatterpolar\": [{\"marker\": {\"colorbar\": {\"outlinewidth\": 0, \"ticks\": \"\"}}, \"type\": \"scatterpolar\"}], \"scatterpolargl\": [{\"marker\": {\"colorbar\": {\"outlinewidth\": 0, \"ticks\": \"\"}}, \"type\": \"scatterpolargl\"}], \"scatterternary\": [{\"marker\": {\"colorbar\": {\"outlinewidth\": 0, \"ticks\": \"\"}}, \"type\": \"scatterternary\"}], \"surface\": [{\"colorbar\": {\"outlinewidth\": 0, \"ticks\": \"\"}, \"colorscale\": [[0.0, \"#0d0887\"], [0.1111111111111111, \"#46039f\"], [0.2222222222222222, \"#7201a8\"], [0.3333333333333333, \"#9c179e\"], [0.4444444444444444, \"#bd3786\"], [0.5555555555555556, \"#d8576b\"], [0.6666666666666666, \"#ed7953\"], [0.7777777777777778, \"#fb9f3a\"], [0.8888888888888888, \"#fdca26\"], [1.0, \"#f0f921\"]], \"type\": \"surface\"}], \"table\": [{\"cells\": {\"fill\": {\"color\": \"#EBF0F8\"}, \"line\": {\"color\": \"white\"}}, \"header\": {\"fill\": {\"color\": \"#C8D4E3\"}, \"line\": {\"color\": \"white\"}}, \"type\": \"table\"}]}, \"layout\": {\"annotationdefaults\": {\"arrowcolor\": \"#2a3f5f\", \"arrowhead\": 0, \"arrowwidth\": 1}, \"coloraxis\": {\"colorbar\": {\"outlinewidth\": 0, \"ticks\": \"\"}}, \"colorscale\": {\"diverging\": [[0, \"#8e0152\"], [0.1, \"#c51b7d\"], [0.2, \"#de77ae\"], [0.3, \"#f1b6da\"], [0.4, \"#fde0ef\"], [0.5, \"#f7f7f7\"], [0.6, \"#e6f5d0\"], [0.7, \"#b8e186\"], [0.8, \"#7fbc41\"], [0.9, \"#4d9221\"], [1, \"#276419\"]], \"sequential\": [[0.0, \"#0d0887\"], [0.1111111111111111, \"#46039f\"], [0.2222222222222222, \"#7201a8\"], [0.3333333333333333, \"#9c179e\"], [0.4444444444444444, \"#bd3786\"], [0.5555555555555556, \"#d8576b\"], [0.6666666666666666, \"#ed7953\"], [0.7777777777777778, \"#fb9f3a\"], [0.8888888888888888, \"#fdca26\"], [1.0, \"#f0f921\"]], \"sequentialminus\": [[0.0, \"#0d0887\"], [0.1111111111111111, \"#46039f\"], [0.2222222222222222, \"#7201a8\"], [0.3333333333333333, \"#9c179e\"], [0.4444444444444444, \"#bd3786\"], [0.5555555555555556, \"#d8576b\"], [0.6666666666666666, \"#ed7953\"], [0.7777777777777778, \"#fb9f3a\"], [0.8888888888888888, \"#fdca26\"], [1.0, \"#f0f921\"]]}, \"colorway\": [\"#636efa\", \"#EF553B\", \"#00cc96\", \"#ab63fa\", \"#FFA15A\", \"#19d3f3\", \"#FF6692\", \"#B6E880\", \"#FF97FF\", \"#FECB52\"], \"font\": {\"color\": \"#2a3f5f\"}, \"geo\": {\"bgcolor\": \"white\", \"lakecolor\": \"white\", \"landcolor\": \"#E5ECF6\", \"showlakes\": true, \"showland\": true, \"subunitcolor\": \"white\"}, \"hoverlabel\": {\"align\": \"left\"}, \"hovermode\": \"closest\", \"mapbox\": {\"style\": \"light\"}, \"paper_bgcolor\": \"white\", \"plot_bgcolor\": \"#E5ECF6\", \"polar\": {\"angularaxis\": {\"gridcolor\": \"white\", \"linecolor\": \"white\", \"ticks\": \"\"}, \"bgcolor\": \"#E5ECF6\", \"radialaxis\": {\"gridcolor\": \"white\", \"linecolor\": \"white\", \"ticks\": \"\"}}, \"scene\": {\"xaxis\": {\"backgroundcolor\": \"#E5ECF6\", \"gridcolor\": \"white\", \"gridwidth\": 2, \"linecolor\": \"white\", \"showbackground\": true, \"ticks\": \"\", \"zerolinecolor\": \"white\"}, \"yaxis\": {\"backgroundcolor\": \"#E5ECF6\", \"gridcolor\": \"white\", \"gridwidth\": 2, \"linecolor\": \"white\", \"showbackground\": true, \"ticks\": \"\", \"zerolinecolor\": \"white\"}, \"zaxis\": {\"backgroundcolor\": \"#E5ECF6\", \"gridcolor\": \"white\", \"gridwidth\": 2, \"linecolor\": \"white\", \"showbackground\": true, \"ticks\": \"\", \"zerolinecolor\": \"white\"}}, \"shapedefaults\": {\"line\": {\"color\": \"#2a3f5f\"}}, \"ternary\": {\"aaxis\": {\"gridcolor\": \"white\", \"linecolor\": \"white\", \"ticks\": \"\"}, \"baxis\": {\"gridcolor\": \"white\", \"linecolor\": \"white\", \"ticks\": \"\"}, \"bgcolor\": \"#E5ECF6\", \"caxis\": {\"gridcolor\": \"white\", \"linecolor\": \"white\", \"ticks\": \"\"}}, \"title\": {\"x\": 0.05}, \"xaxis\": {\"automargin\": true, \"gridcolor\": \"white\", \"linecolor\": \"white\", \"ticks\": \"\", \"title\": {\"standoff\": 15}, \"zerolinecolor\": \"white\", \"zerolinewidth\": 2}, \"yaxis\": {\"automargin\": true, \"gridcolor\": \"white\", \"linecolor\": \"white\", \"ticks\": \"\", \"title\": {\"standoff\": 15}, \"zerolinecolor\": \"white\", \"zerolinewidth\": 2}}}, \"title\": {\"text\": \"Analisi de sobrevivencia-fumadores\"}},\n",
              "                        {\"responsive\": true}\n",
              "                    ).then(function(){\n",
              "                            \n",
              "var gd = document.getElementById('7e6b006e-3168-4804-86b4-d17a7a846027');\n",
              "var x = new MutationObserver(function (mutations, observer) {{\n",
              "        var display = window.getComputedStyle(gd).display;\n",
              "        if (!display || display === 'none') {{\n",
              "            console.log([gd, 'removed!']);\n",
              "            Plotly.purge(gd);\n",
              "            observer.disconnect();\n",
              "        }}\n",
              "}});\n",
              "\n",
              "// Listen for the removal of the full notebook cells\n",
              "var notebookContainer = gd.closest('#notebook-container');\n",
              "if (notebookContainer) {{\n",
              "    x.observe(notebookContainer, {childList: true});\n",
              "}}\n",
              "\n",
              "// Listen for the clearing of the current output cell\n",
              "var outputEl = gd.closest('.output');\n",
              "if (outputEl) {{\n",
              "    x.observe(outputEl, {childList: true});\n",
              "}}\n",
              "\n",
              "                        })\n",
              "                };\n",
              "                \n",
              "            </script>\n",
              "        </div>\n",
              "</body>\n",
              "</html>"
            ]
          },
          "metadata": {
            "tags": []
          }
        }
      ]
    },
    {
      "cell_type": "code",
      "metadata": {
        "id": "7jZ2R5yvDi0Y",
        "outputId": "c8f97869-7014-405e-f75c-14c8ec462f2f",
        "colab": {
          "base_uri": "https://localhost:8080/",
          "height": 52
        }
      },
      "source": [
        "'''Podemos concluir que en esta base de datos, hay 203 personas no fumadoras de la cuales 137 sobrevivieron y las otras 66 desafortunadamente fallecieron.\n",
        "\n",
        " Luego de las 96 personas que fuman, 66 sobrevivieron y 30 falleciron.'''"
      ],
      "execution_count": 239,
      "outputs": [
        {
          "output_type": "execute_result",
          "data": {
            "application/vnd.google.colaboratory.intrinsic+json": {
              "type": "string"
            },
            "text/plain": [
              "'Podemos concluir que en esta base de datos, hay 203 personas no fumadoras de la cuales 137 sobrevivieron y las otras 66 desafortunadamente fallecieron.\\n\\n Luego de las 96 personas que fuman, 66 sobrevivieron y 30 falleciron.'"
            ]
          },
          "metadata": {
            "tags": []
          },
          "execution_count": 239
        }
      ]
    },
    {
      "cell_type": "code",
      "metadata": {
        "id": "B7-lEZWFLNPt",
        "outputId": "c961a6be-48d3-4c9f-cf7d-2a58f5f643e0",
        "colab": {
          "base_uri": "https://localhost:8080/",
          "height": 35
        }
      },
      "source": [
        "# definir columnas tipo string para año y deceso\"no necesita decodificar\", estdistica\n",
        "# de pincardi y categorias.\n",
        "\n",
        "#col_añde = ['age','DEATH_EVENT','sex','smoking']; #columna de año y deceso de una persona\n",
        "\n",
        "#col_pincardi =['anaemia','creatinine_phosphokinase','diabetes',\n",
        "#               'ejection_fraction','high_blood_pressure','platelets',\n",
        "#               'serum_creatinine','serum_sodium']; # estadistica de para\n",
        "                                   #prediccion de insuficiencia cardiaca.\n",
        "\n",
        "#cat =  ['sex','smoking']  #categorias     \n",
        "\n",
        "#items=[]\n",
        "\n",
        "#for i in cat:\n",
        "#   items += [list(pincardi[i].value_counts().index)]\n",
        "#cat_usr = dict(zip(cat,items))   \n",
        "\n",
        "'''NO HAY NECESIDAD DE CODIFICAR LAS COLUMNAS,PUES EL DATA FRAME YA ESTA \n",
        "ADECUADO PARA TRABAJARLO COMO ESTA, NO HAY NECESIDAD DE CODIFICAR.'''\n",
        "\n"
      ],
      "execution_count": 240,
      "outputs": [
        {
          "output_type": "execute_result",
          "data": {
            "application/vnd.google.colaboratory.intrinsic+json": {
              "type": "string"
            },
            "text/plain": [
              "'NO HAY NECESIDAD DE CODIFICAR LAS COLUMNAS,PUES EL DATA FRAME YA ESTA \\nADECUADO PARA TRABAJARLO COMO ESTA, NO HAY NECESIDAD DE CODIFICAR.'"
            ]
          },
          "metadata": {
            "tags": []
          },
          "execution_count": 240
        }
      ]
    },
    {
      "cell_type": "code",
      "metadata": {
        "id": "98QaTc7vRsK3"
      },
      "source": [
        "#crear clase propia de proceso para prediccion de insuficiencia cardiaca\n",
        "\n",
        "from sklearn.base import BaseEstimator, TransformerMixin\n",
        "from sklearn.impute import SimpleImputer \n",
        "from sklearn.preprocessing import OrdinalEncoder,OneHotEncoder\n",
        "\n",
        "\n",
        "class dummy_picard(BaseEstimator,TransformerMixin):\n",
        "    #inicializacion de clase y varaibles\n",
        "    def __init__(self, col_añde,col_pincardi,): #constructor clase\n",
        "        self.col_añde = col_añde #lista atributos tipo moneda\n",
        "        self.col_pincardi = col_pincardi #lista atributos tipo estadistica\n",
        "        #self.cat_usr = cat_usr #lista de atributos categoricos\n",
        "\n",
        "    def fit(self,X, *_):\n",
        "        Xi = X.copy() #copiar dataset para no reemplazar original\n",
        "        self.imputer_num = SimpleImputer(strategy=\"most_frequent\") #crear imputador tipo modo\n",
        "        self.a = Xi.columns[np.sum(Xi.isna())> 0] #encontrar columnas con datos faltantes\n",
        "        #print(a)\n",
        "        self.imputer_num.fit(Xi[self.a]) # ajustar imputador  \n",
        "\n",
        "        return self\n",
        "        \n",
        "    def fit_transform(self,X,*_):\n",
        "         self.fit(X)\n",
        "         return self.transform(X)"
      ],
      "execution_count": 241,
      "outputs": []
    },
    {
      "cell_type": "code",
      "metadata": {
        "id": "dVS1ypGBRqFT",
        "outputId": "4a040b71-7538-4127-8005-ce4badd3bb81",
        "colab": {
          "base_uri": "https://localhost:8080/",
          "height": 52
        }
      },
      "source": [
        "#dummy = dummy_picard(col_añde=col_añde,col_pincardi=col_pincardi)\n",
        "\n",
        "#xtrain_pre =dummy.fit_transform(Xtrain)\n",
        "#Xtrain_pre = dummy.fit_transform(Xtrain)\n",
        "\n",
        "'''no es necesario crear clase propia de procesos,pues esta base de datos \n",
        "ya esta bien organizada y no seria optimo volver a procesar los mismos datos para obtener\n",
        "los mismos datos,asi que podemos hacer la predicción de la o las variables de \n",
        "interes apartir de estos datos.'''"
      ],
      "execution_count": 242,
      "outputs": [
        {
          "output_type": "execute_result",
          "data": {
            "application/vnd.google.colaboratory.intrinsic+json": {
              "type": "string"
            },
            "text/plain": [
              "'no es necesario crear clase propia de procesos,pues esta base de datos \\nya esta bien organizada y no seria optimo volver a procesar los mismos datos para obtener\\nlos mismos datos,asi que podemos hacer la predicción de la o las variables de \\ninteres apartir de estos datos.'"
            ]
          },
          "metadata": {
            "tags": []
          },
          "execution_count": 242
        }
      ]
    },
    {
      "cell_type": "code",
      "metadata": {
        "id": "TLipbb1kED07",
        "outputId": "b430b712-8795-49b0-9465-ab76fe0c668e",
        "colab": {
          "base_uri": "https://localhost:8080/",
          "height": 340
        }
      },
      "source": [
        "Xtrain.info()"
      ],
      "execution_count": 243,
      "outputs": [
        {
          "output_type": "stream",
          "text": [
            "<class 'pandas.core.frame.DataFrame'>\n",
            "Int64Index: 209 entries, 224 to 102\n",
            "Data columns (total 12 columns):\n",
            " #   Column                    Non-Null Count  Dtype  \n",
            "---  ------                    --------------  -----  \n",
            " 0   age                       209 non-null    float64\n",
            " 1   anaemia                   209 non-null    int64  \n",
            " 2   creatinine_phosphokinase  209 non-null    int64  \n",
            " 3   diabetes                  209 non-null    int64  \n",
            " 4   ejection_fraction         209 non-null    int64  \n",
            " 5   high_blood_pressure       209 non-null    int64  \n",
            " 6   platelets                 209 non-null    float64\n",
            " 7   serum_creatinine          209 non-null    float64\n",
            " 8   serum_sodium              209 non-null    int64  \n",
            " 9   sex                       209 non-null    int64  \n",
            " 10  time                      209 non-null    int64  \n",
            " 11  DEATH_EVENT               209 non-null    int64  \n",
            "dtypes: float64(3), int64(9)\n",
            "memory usage: 21.2 KB\n"
          ],
          "name": "stdout"
        }
      ]
    },
    {
      "cell_type": "markdown",
      "metadata": {
        "id": "1DTYGOpKzkcy"
      },
      "source": [
        " # PREDICCIONDE VARIABLES DE INTERES.\n",
        "\n"
      ]
    },
    {
      "cell_type": "code",
      "metadata": {
        "id": "Ur6iyVbEEclK"
      },
      "source": [
        "from sklearn.decomposition import PCA \n",
        "from sklearn.preprocessing import StandardScaler\n",
        "sca = StandardScaler()\n",
        "Xtrain_igual_z = sca.fit_transform(Xtrain)"
      ],
      "execution_count": 244,
      "outputs": []
    },
    {
      "cell_type": "code",
      "metadata": {
        "id": "218ND2OmKj53",
        "outputId": "5e48b3b9-ae9d-41a3-de2a-be3de9036c86",
        "colab": {
          "base_uri": "https://localhost:8080/",
          "height": 34
        }
      },
      "source": [
        "Xtrain_igual_z.var(axis=0)"
      ],
      "execution_count": 245,
      "outputs": [
        {
          "output_type": "execute_result",
          "data": {
            "text/plain": [
              "array([1., 1., 1., 1., 1., 1., 1., 1., 1., 1., 1., 1.])"
            ]
          },
          "metadata": {
            "tags": []
          },
          "execution_count": 245
        }
      ]
    },
    {
      "cell_type": "code",
      "metadata": {
        "id": "Md9y7ia4J1Fm",
        "outputId": "0367186a-26f4-4fab-874b-6ed9431e0be8",
        "colab": {
          "base_uri": "https://localhost:8080/",
          "height": 238
        }
      },
      "source": [
        "Xtrain.var(axis=0)"
      ],
      "execution_count": 246,
      "outputs": [
        {
          "output_type": "execute_result",
          "data": {
            "text/plain": [
              "age                         1.364878e+02\n",
              "anaemia                     2.449393e-01\n",
              "creatinine_phosphokinase    8.573976e+05\n",
              "diabetes                    2.405686e-01\n",
              "ejection_fraction           1.339068e+02\n",
              "high_blood_pressure         2.298031e-01\n",
              "platelets                   8.306796e+09\n",
              "serum_creatinine            1.000036e+00\n",
              "serum_sodium                1.864589e+01\n",
              "sex                         2.338057e-01\n",
              "time                        6.098816e+03\n",
              "DEATH_EVENT                 2.035793e-01\n",
              "dtype: float64"
            ]
          },
          "metadata": {
            "tags": []
          },
          "execution_count": 246
        }
      ]
    },
    {
      "cell_type": "code",
      "metadata": {
        "id": "uTVp5VHiIJ-B"
      },
      "source": [
        "red = PCA()\n",
        "zz = red.fit_transform(Xtrain_igual_z)"
      ],
      "execution_count": 247,
      "outputs": []
    },
    {
      "cell_type": "code",
      "metadata": {
        "id": "KUockdqZIbvS",
        "outputId": "9b8e6b1c-2ce3-42eb-bba0-1d94ec6d2c2e",
        "colab": {
          "base_uri": "https://localhost:8080/",
          "height": 273
        }
      },
      "source": [
        "plt.scatter(zz[:,0],zz[:,1],c=ytrain,s = 100*Xtrain['DEATH_EVENT']/(Xtrain['DEATH_EVENT'].max()))\n",
        "plt.colorbar()\n",
        "plt.show()"
      ],
      "execution_count": 248,
      "outputs": [
        {
          "output_type": "display_data",
          "data": {
            "image/png": "[encoded data removed]",
            "text/plain": [
              "<Figure size 432x288 with 2 Axes>"
            ]
          },
          "metadata": {
            "tags": [],
            "needs_background": "light"
          }
        }
      ]
    },
    {
      "cell_type": "code",
      "metadata": {
        "id": "C7umEikQPw8B"
      },
      "source": [
        ""
      ],
      "execution_count": 248,
      "outputs": []
    },
    {
      "cell_type": "code",
      "metadata": {
        "id": "m9AUUUjYKSJt",
        "outputId": "0e2b289b-1aff-4a00-c35f-476acce5883b",
        "colab": {
          "base_uri": "https://localhost:8080/",
          "height": 221
        }
      },
      "source": [
        "# PROCESO CON test\n",
        "\n",
        "Xtest['DEATH_EVENT']"
      ],
      "execution_count": 249,
      "outputs": [
        {
          "output_type": "execute_result",
          "data": {
            "text/plain": [
              "281    0\n",
              "265    0\n",
              "164    1\n",
              "9      1\n",
              "77     0\n",
              "      ..\n",
              "132    0\n",
              "72     1\n",
              "15     1\n",
              "10     1\n",
              "157    0\n",
              "Name: DEATH_EVENT, Length: 90, dtype: int64"
            ]
          },
          "metadata": {
            "tags": []
          },
          "execution_count": 249
        }
      ]
    },
    {
      "cell_type": "code",
      "metadata": {
        "id": "obfsOrb3KYap",
        "outputId": "b59def7c-da4d-4cd6-98c3-445fd80000e4",
        "colab": {
          "base_uri": "https://localhost:8080/",
          "height": 340
        }
      },
      "source": [
        "Xtest.info()"
      ],
      "execution_count": 250,
      "outputs": [
        {
          "output_type": "stream",
          "text": [
            "<class 'pandas.core.frame.DataFrame'>\n",
            "Int64Index: 90 entries, 281 to 157\n",
            "Data columns (total 12 columns):\n",
            " #   Column                    Non-Null Count  Dtype  \n",
            "---  ------                    --------------  -----  \n",
            " 0   age                       90 non-null     float64\n",
            " 1   anaemia                   90 non-null     int64  \n",
            " 2   creatinine_phosphokinase  90 non-null     int64  \n",
            " 3   diabetes                  90 non-null     int64  \n",
            " 4   ejection_fraction         90 non-null     int64  \n",
            " 5   high_blood_pressure       90 non-null     int64  \n",
            " 6   platelets                 90 non-null     float64\n",
            " 7   serum_creatinine          90 non-null     float64\n",
            " 8   serum_sodium              90 non-null     int64  \n",
            " 9   sex                       90 non-null     int64  \n",
            " 10  time                      90 non-null     int64  \n",
            " 11  DEATH_EVENT               90 non-null     int64  \n",
            "dtypes: float64(3), int64(9)\n",
            "memory usage: 9.1 KB\n"
          ],
          "name": "stdout"
        }
      ]
    },
    {
      "cell_type": "code",
      "metadata": {
        "id": "Zni4GYWlTF6d"
      },
      "source": [
        "zztest = red.transform(sca.transform((Xtest))) # una sola linea"
      ],
      "execution_count": 251,
      "outputs": []
    },
    {
      "cell_type": "code",
      "metadata": {
        "id": "zAFxgDdHURfn",
        "outputId": "e90589cd-2a50-4328-a215-6e1f7485b97c",
        "colab": {
          "base_uri": "https://localhost:8080/",
          "height": 273
        }
      },
      "source": [
        "plt.scatter(zz[:,0],zz[:,1],c=ytrain,s = 100*Xtrain['DEATH_EVENT']/(Xtrain['DEATH_EVENT'].max()),label='train')\n",
        "plt.colorbar()\n",
        "plt.scatter(zztest[:,0],zztest[:,1],c=ytest,s=100*Xtest['DEATH_EVENT']/Xtest['DEATH_EVENT'].max(),marker='d',label='test')\n",
        "plt.legend()\n",
        "plt.show()"
      ],
      "execution_count": 252,
      "outputs": [
        {
          "output_type": "display_data",
          "data": {
            "image/png": "[encoded data removed]",
            "text/plain": [
              "<Figure size 432x288 with 2 Axes>"
            ]
          },
          "metadata": {
            "tags": [],
            "needs_background": "light"
          }
        }
      ]
    },
    {
      "cell_type": "code",
      "metadata": {
        "id": "fgfcQsOKUsUd"
      },
      "source": [
        "# definir modelos de predicción\n",
        "from sklearn.linear_model import LinearRegression, ElasticNet\n",
        "\n",
        "steps = [\n",
        "         [('scaler', StandardScaler()), #estandarizar cada atributo columna de xtrain centrada en 0 y var = 1\n",
        "          ('reg', LinearRegression())],\n",
        "         \n",
        "         [('scaler',StandardScaler()),\n",
        "          ('reg',ElasticNet())]\n",
        "         \n",
        "        # [('scaler', StandardScaler()), #estandarizar cada atriuto columna de xtrain centrada en 0 y var = 1\n",
        "        #  ('reg',  KernelRidge(kernel = 'rbf'))], #clasificador \n",
        "         ]        \n",
        "\n",
        "#parametros a buscar por busqueda por grilla\n",
        "parameters =[ \n",
        "             {'reg__fit_intercept':[True, False]             \n",
        "             },\n",
        "             {\n",
        "              'reg__alpha': [0,1e-3,1e-2,1e-1,1,10], #parametros n_neighbors debe ser siempre un int\n",
        "              'reg__l1_ratio':[0,0.25,0.5,0.75,1]\n",
        "             }\n",
        "              ]\n",
        "\n",
        "label_model = ['Nor+RegLin','Nor+ElasticNet']                    "
      ],
      "execution_count": 253,
      "outputs": []
    },
    {
      "cell_type": "code",
      "metadata": {
        "id": "dwyUFgdgB96W",
        "outputId": "0154cf05-2af9-49d3-cbe8-97c50b15f387",
        "colab": {
          "base_uri": "https://localhost:8080/",
          "height": 68
        }
      },
      "source": [
        "parameters"
      ],
      "execution_count": 254,
      "outputs": [
        {
          "output_type": "execute_result",
          "data": {
            "text/plain": [
              "[{'reg__fit_intercept': [True, False]},\n",
              " {'reg__alpha': [0, 0.001, 0.01, 0.1, 1, 10],\n",
              "  'reg__l1_ratio': [0, 0.25, 0.5, 0.75, 1]}]"
            ]
          },
          "metadata": {
            "tags": []
          },
          "execution_count": 254
        }
      ]
    },
    {
      "cell_type": "code",
      "metadata": {
        "id": "1MU3vPEhCSXd",
        "outputId": "9bdcff4d-4790-4859-a8a4-053af8e369a3",
        "colab": {
          "base_uri": "https://localhost:8080/",
          "height": 34
        }
      },
      "source": [
        "import os \n",
        "pathpre = 'datospre'\n",
        "\n",
        "try:\n",
        " os.mkdir(pathpre)\n",
        "except:\n",
        "  print(\"carpetas resultados ya existe\") "
      ],
      "execution_count": 255,
      "outputs": [
        {
          "output_type": "stream",
          "text": [
            "carpetas resultados ya existe\n"
          ],
          "name": "stdout"
        }
      ]
    },
    {
      "cell_type": "code",
      "metadata": {
        "id": "vznjLhK3JTeD",
        "outputId": "ac674467-8c9c-45bb-a86a-4f8caef9ba05",
        "colab": {
          "base_uri": "https://localhost:8080/",
          "height": 1000
        }
      },
      "source": [
        "from joblib import dump, load\n",
        "from sklearn.metrics import mean_absolute_error as msa \n",
        "Niter = 10 #numero particiones outter loop nested cross-validation\n",
        "msev =np.zeros((Niter,len(steps)))#arreglo para guardar acierto/error\n",
        "Nmod = len(steps) #numero de modelos a probar\n",
        "best_estimators = Niter*[None]#mejor metodo por iteracion\n",
        "###clave del funcionamiento\n",
        "best_hyperpar = Niter*[None]#mejor metodo por iteracion \n",
        "\n",
        "\n",
        "#############################\n",
        "for j in range(Niter): #outter loop # SI TIENE MENOS DE 1000 DATOS BORRAR ESTE CICLO SOLO CV EN LINEA 16\n",
        "      #print('it %d/%d'%(j+1,Niter))\n",
        "      #particiono datos outter loop\n",
        "      X_trainj, X_testj, y_trainj, y_testj = train_test_split(Xtrain,ytrain,test_size=0.3) # xtrain 60, xtest 26\n",
        "      list_est = [] #lista lazo interno para guardar mejor estimador por modelo para iteracion j\n",
        "      list_hyper = [] #lista lazo interno para guardar mejores hyperparametros por modelo para iteracion j\n",
        "      for r in range(Nmod): #recorro todos los posibles modelos a probar en iteracion j del outter loop\n",
        "          grid_search = GridSearchCV(Pipeline(steps[r],memory=pathpre), parameters[r],cv=5,verbose=5,scoring='neg_mean_absolute_error',n_jobs=-1) #cv inner loop\n",
        "          #xtrain gridsearchcv xtrain split en 12 / cv, 60/5 = 12, xtrain 48 datos validar 12\n",
        "          # cv = N -> leave one out N <30\n",
        "          #generar mejor modelo\n",
        "          #grid_search.fit(X_trainj,y_trainj)\n",
        "          grid_search.fit(X_trainj,y_trainj)\n",
        "          #estimar salida conjunto de test\n",
        "          y_pred = grid_search.best_estimator_.predict(X_testj)\n",
        "          #guardar mejor modelo\n",
        "          list_est.append(grid_search.best_estimator_)\n",
        "          list_hyper.append(grid_search.best_params_)\n",
        "          #guardar acierto\n",
        "          msev[j,r] = msa(y_testj,y_pred)\n",
        "          print('it %d/%d-Modelo %d/%d'%(j+1,Niter,r+1,len(steps)))\n",
        "          print('best hyper', grid_search.best_params_)\n",
        "          print('msa:',msev[j,r])\n",
        "          \n",
        "      best_estimators[j] = list_est #guardar mejores modelos \n",
        "      best_hyperpar[j] = list_hyper #mejores hyperparametros\n",
        "          \n",
        "          \n",
        "      savedata = {\n",
        "          'acc':msev,\n",
        "          'best_models':best_estimators,\n",
        "          'best_parameters':best_hyperpar,\n",
        "            } \n",
        "      dump(savedata,'smokingpincardi.joblib')"
      ],
      "execution_count": 256,
      "outputs": [
        {
          "output_type": "stream",
          "text": [
            "Fitting 5 folds for each of 2 candidates, totalling 10 fits\n"
          ],
          "name": "stdout"
        },
        {
          "output_type": "stream",
          "text": [
            "[Parallel(n_jobs=-1)]: Using backend LokyBackend with 2 concurrent workers.\n",
            "[Parallel(n_jobs=-1)]: Done  10 out of  10 | elapsed:    1.3s remaining:    0.0s\n",
            "[Parallel(n_jobs=-1)]: Done  10 out of  10 | elapsed:    1.3s finished\n",
            "[Parallel(n_jobs=-1)]: Using backend LokyBackend with 2 concurrent workers.\n"
          ],
          "name": "stderr"
        },
        {
          "output_type": "stream",
          "text": [
            "it 1/10-Modelo 1/2\n",
            "best hyper {'reg__fit_intercept': True}\n",
            "msa: 0.3755094224512103\n",
            "Fitting 5 folds for each of 30 candidates, totalling 150 fits\n"
          ],
          "name": "stdout"
        },
        {
          "output_type": "stream",
          "text": [
            "[Parallel(n_jobs=-1)]: Done  44 tasks      | elapsed:    0.4s\n",
            "[Parallel(n_jobs=-1)]: Done 150 out of 150 | elapsed:    1.1s finished\n",
            "[Parallel(n_jobs=-1)]: Using backend LokyBackend with 2 concurrent workers.\n",
            "[Parallel(n_jobs=-1)]: Done   7 out of  10 | elapsed:    0.2s remaining:    0.1s\n",
            "[Parallel(n_jobs=-1)]: Done  10 out of  10 | elapsed:    0.2s remaining:    0.0s\n",
            "[Parallel(n_jobs=-1)]: Done  10 out of  10 | elapsed:    0.2s finished\n"
          ],
          "name": "stderr"
        },
        {
          "output_type": "stream",
          "text": [
            "it 1/10-Modelo 2/2\n",
            "best hyper {'reg__alpha': 0.1, 'reg__l1_ratio': 0.25}\n",
            "msa: 0.37086953937056993\n",
            "Fitting 5 folds for each of 2 candidates, totalling 10 fits\n",
            "it 2/10-Modelo 1/2\n",
            "best hyper {'reg__fit_intercept': True}\n",
            "msa: 0.3941850890552223\n",
            "Fitting 5 folds for each of 30 candidates, totalling 150 fits\n"
          ],
          "name": "stdout"
        },
        {
          "output_type": "stream",
          "text": [
            "[Parallel(n_jobs=-1)]: Using backend LokyBackend with 2 concurrent workers.\n",
            "[Parallel(n_jobs=-1)]: Done  44 tasks      | elapsed:    0.4s\n",
            "[Parallel(n_jobs=-1)]: Done 150 out of 150 | elapsed:    1.1s finished\n",
            "[Parallel(n_jobs=-1)]: Using backend LokyBackend with 2 concurrent workers.\n",
            "[Parallel(n_jobs=-1)]: Done   7 out of  10 | elapsed:    0.2s remaining:    0.1s\n",
            "[Parallel(n_jobs=-1)]: Done  10 out of  10 | elapsed:    0.2s remaining:    0.0s\n",
            "[Parallel(n_jobs=-1)]: Done  10 out of  10 | elapsed:    0.2s finished\n"
          ],
          "name": "stderr"
        },
        {
          "output_type": "stream",
          "text": [
            "it 2/10-Modelo 2/2\n",
            "best hyper {'reg__alpha': 0.1, 'reg__l1_ratio': 0.25}\n",
            "msa: 0.37264355610357347\n",
            "Fitting 5 folds for each of 2 candidates, totalling 10 fits\n",
            "it 3/10-Modelo 1/2\n",
            "best hyper {'reg__fit_intercept': True}\n",
            "msa: 0.3208086707703175\n",
            "Fitting 5 folds for each of 30 candidates, totalling 150 fits\n"
          ],
          "name": "stdout"
        },
        {
          "output_type": "stream",
          "text": [
            "[Parallel(n_jobs=-1)]: Using backend LokyBackend with 2 concurrent workers.\n",
            "[Parallel(n_jobs=-1)]: Done  44 tasks      | elapsed:    0.4s\n",
            "[Parallel(n_jobs=-1)]: Done 150 out of 150 | elapsed:    1.1s finished\n",
            "[Parallel(n_jobs=-1)]: Using backend LokyBackend with 2 concurrent workers.\n",
            "[Parallel(n_jobs=-1)]: Done   7 out of  10 | elapsed:    0.2s remaining:    0.1s\n",
            "[Parallel(n_jobs=-1)]: Done  10 out of  10 | elapsed:    0.2s remaining:    0.0s\n",
            "[Parallel(n_jobs=-1)]: Done  10 out of  10 | elapsed:    0.2s finished\n"
          ],
          "name": "stderr"
        },
        {
          "output_type": "stream",
          "text": [
            "it 3/10-Modelo 2/2\n",
            "best hyper {'reg__alpha': 0.01, 'reg__l1_ratio': 1}\n",
            "msa: 0.3158793337030505\n",
            "Fitting 5 folds for each of 2 candidates, totalling 10 fits\n",
            "it 4/10-Modelo 1/2\n",
            "best hyper {'reg__fit_intercept': True}\n",
            "msa: 0.33548520838818857\n",
            "Fitting 5 folds for each of 30 candidates, totalling 150 fits\n"
          ],
          "name": "stdout"
        },
        {
          "output_type": "stream",
          "text": [
            "[Parallel(n_jobs=-1)]: Using backend LokyBackend with 2 concurrent workers.\n",
            "[Parallel(n_jobs=-1)]: Done  44 tasks      | elapsed:    0.4s\n",
            "[Parallel(n_jobs=-1)]: Done 150 out of 150 | elapsed:    1.1s finished\n",
            "[Parallel(n_jobs=-1)]: Using backend LokyBackend with 2 concurrent workers.\n",
            "[Parallel(n_jobs=-1)]: Done   7 out of  10 | elapsed:    0.2s remaining:    0.1s\n",
            "[Parallel(n_jobs=-1)]: Done  10 out of  10 | elapsed:    0.2s remaining:    0.0s\n",
            "[Parallel(n_jobs=-1)]: Done  10 out of  10 | elapsed:    0.2s finished\n"
          ],
          "name": "stderr"
        },
        {
          "output_type": "stream",
          "text": [
            "it 4/10-Modelo 2/2\n",
            "best hyper {'reg__alpha': 0.01, 'reg__l1_ratio': 1}\n",
            "msa: 0.33512800279635147\n",
            "Fitting 5 folds for each of 2 candidates, totalling 10 fits\n",
            "it 5/10-Modelo 1/2\n",
            "best hyper {'reg__fit_intercept': True}\n",
            "msa: 0.36063572770027574\n",
            "Fitting 5 folds for each of 30 candidates, totalling 150 fits\n"
          ],
          "name": "stdout"
        },
        {
          "output_type": "stream",
          "text": [
            "[Parallel(n_jobs=-1)]: Using backend LokyBackend with 2 concurrent workers.\n",
            "[Parallel(n_jobs=-1)]: Done  44 tasks      | elapsed:    0.4s\n",
            "[Parallel(n_jobs=-1)]: Done 150 out of 150 | elapsed:    1.1s finished\n",
            "[Parallel(n_jobs=-1)]: Using backend LokyBackend with 2 concurrent workers.\n",
            "[Parallel(n_jobs=-1)]: Done   7 out of  10 | elapsed:    0.2s remaining:    0.1s\n"
          ],
          "name": "stderr"
        },
        {
          "output_type": "stream",
          "text": [
            "it 5/10-Modelo 2/2\n",
            "best hyper {'reg__alpha': 0.01, 'reg__l1_ratio': 1}\n",
            "msa: 0.3505327101620623\n",
            "Fitting 5 folds for each of 2 candidates, totalling 10 fits\n"
          ],
          "name": "stdout"
        },
        {
          "output_type": "stream",
          "text": [
            "[Parallel(n_jobs=-1)]: Done  10 out of  10 | elapsed:    0.2s remaining:    0.0s\n",
            "[Parallel(n_jobs=-1)]: Done  10 out of  10 | elapsed:    0.2s finished\n",
            "[Parallel(n_jobs=-1)]: Using backend LokyBackend with 2 concurrent workers.\n"
          ],
          "name": "stderr"
        },
        {
          "output_type": "stream",
          "text": [
            "it 6/10-Modelo 1/2\n",
            "best hyper {'reg__fit_intercept': True}\n",
            "msa: 0.35549610947207116\n",
            "Fitting 5 folds for each of 30 candidates, totalling 150 fits\n"
          ],
          "name": "stdout"
        },
        {
          "output_type": "stream",
          "text": [
            "[Parallel(n_jobs=-1)]: Done  44 tasks      | elapsed:    0.4s\n",
            "[Parallel(n_jobs=-1)]: Done 150 out of 150 | elapsed:    1.1s finished\n",
            "[Parallel(n_jobs=-1)]: Using backend LokyBackend with 2 concurrent workers.\n",
            "[Parallel(n_jobs=-1)]: Done   7 out of  10 | elapsed:    0.2s remaining:    0.1s\n"
          ],
          "name": "stderr"
        },
        {
          "output_type": "stream",
          "text": [
            "it 6/10-Modelo 2/2\n",
            "best hyper {'reg__alpha': 0.1, 'reg__l1_ratio': 0.25}\n",
            "msa: 0.3527200565674841\n",
            "Fitting 5 folds for each of 2 candidates, totalling 10 fits\n"
          ],
          "name": "stdout"
        },
        {
          "output_type": "stream",
          "text": [
            "[Parallel(n_jobs=-1)]: Done  10 out of  10 | elapsed:    0.2s remaining:    0.0s\n",
            "[Parallel(n_jobs=-1)]: Done  10 out of  10 | elapsed:    0.2s finished\n",
            "[Parallel(n_jobs=-1)]: Using backend LokyBackend with 2 concurrent workers.\n"
          ],
          "name": "stderr"
        },
        {
          "output_type": "stream",
          "text": [
            "it 7/10-Modelo 1/2\n",
            "best hyper {'reg__fit_intercept': True}\n",
            "msa: 0.3001762679269424\n",
            "Fitting 5 folds for each of 30 candidates, totalling 150 fits\n"
          ],
          "name": "stdout"
        },
        {
          "output_type": "stream",
          "text": [
            "[Parallel(n_jobs=-1)]: Done  44 tasks      | elapsed:    0.4s\n",
            "[Parallel(n_jobs=-1)]: Done 150 out of 150 | elapsed:    1.1s finished\n",
            "[Parallel(n_jobs=-1)]: Using backend LokyBackend with 2 concurrent workers.\n",
            "[Parallel(n_jobs=-1)]: Done   7 out of  10 | elapsed:    0.1s remaining:    0.0s\n",
            "[Parallel(n_jobs=-1)]: Done  10 out of  10 | elapsed:    0.1s remaining:    0.0s\n",
            "[Parallel(n_jobs=-1)]: Done  10 out of  10 | elapsed:    0.1s finished\n",
            "[Parallel(n_jobs=-1)]: Using backend LokyBackend with 2 concurrent workers.\n"
          ],
          "name": "stderr"
        },
        {
          "output_type": "stream",
          "text": [
            "it 7/10-Modelo 2/2\n",
            "best hyper {'reg__alpha': 0.1, 'reg__l1_ratio': 0.5}\n",
            "msa: 0.3419671766731295\n",
            "Fitting 5 folds for each of 2 candidates, totalling 10 fits\n",
            "it 8/10-Modelo 1/2\n",
            "best hyper {'reg__fit_intercept': True}\n",
            "msa: 0.3729553582623701\n",
            "Fitting 5 folds for each of 30 candidates, totalling 150 fits\n"
          ],
          "name": "stdout"
        },
        {
          "output_type": "stream",
          "text": [
            "[Parallel(n_jobs=-1)]: Done  44 tasks      | elapsed:    0.4s\n",
            "[Parallel(n_jobs=-1)]: Done 150 out of 150 | elapsed:    1.2s finished\n",
            "[Parallel(n_jobs=-1)]: Using backend LokyBackend with 2 concurrent workers.\n",
            "[Parallel(n_jobs=-1)]: Done  10 out of  10 | elapsed:    0.1s remaining:    0.0s\n",
            "[Parallel(n_jobs=-1)]: Done  10 out of  10 | elapsed:    0.1s finished\n",
            "[Parallel(n_jobs=-1)]: Using backend LokyBackend with 2 concurrent workers.\n"
          ],
          "name": "stderr"
        },
        {
          "output_type": "stream",
          "text": [
            "it 8/10-Modelo 2/2\n",
            "best hyper {'reg__alpha': 0.1, 'reg__l1_ratio': 0.25}\n",
            "msa: 0.36520132433355046\n",
            "Fitting 5 folds for each of 2 candidates, totalling 10 fits\n",
            "it 9/10-Modelo 1/2\n",
            "best hyper {'reg__fit_intercept': True}\n",
            "msa: 0.36737250635431007\n",
            "Fitting 5 folds for each of 30 candidates, totalling 150 fits\n"
          ],
          "name": "stdout"
        },
        {
          "output_type": "stream",
          "text": [
            "[Parallel(n_jobs=-1)]: Done  44 tasks      | elapsed:    0.4s\n",
            "[Parallel(n_jobs=-1)]: Done 150 out of 150 | elapsed:    1.1s finished\n",
            "[Parallel(n_jobs=-1)]: Using backend LokyBackend with 2 concurrent workers.\n",
            "[Parallel(n_jobs=-1)]: Done  10 out of  10 | elapsed:    0.1s remaining:    0.0s\n",
            "[Parallel(n_jobs=-1)]: Done  10 out of  10 | elapsed:    0.1s finished\n",
            "[Parallel(n_jobs=-1)]: Using backend LokyBackend with 2 concurrent workers.\n"
          ],
          "name": "stderr"
        },
        {
          "output_type": "stream",
          "text": [
            "it 9/10-Modelo 2/2\n",
            "best hyper {'reg__alpha': 0.1, 'reg__l1_ratio': 0.5}\n",
            "msa: 0.3622326545185282\n",
            "Fitting 5 folds for each of 2 candidates, totalling 10 fits\n",
            "it 10/10-Modelo 1/2\n",
            "best hyper {'reg__fit_intercept': True}\n",
            "msa: 0.3655972569461264\n",
            "Fitting 5 folds for each of 30 candidates, totalling 150 fits\n"
          ],
          "name": "stdout"
        },
        {
          "output_type": "stream",
          "text": [
            "[Parallel(n_jobs=-1)]: Done  44 tasks      | elapsed:    0.4s\n"
          ],
          "name": "stderr"
        },
        {
          "output_type": "stream",
          "text": [
            "it 10/10-Modelo 2/2\n",
            "best hyper {'reg__alpha': 0.1, 'reg__l1_ratio': 0.25}\n",
            "msa: 0.36294768202439526\n"
          ],
          "name": "stdout"
        },
        {
          "output_type": "stream",
          "text": [
            "[Parallel(n_jobs=-1)]: Done 150 out of 150 | elapsed:    1.1s finished\n"
          ],
          "name": "stderr"
        }
      ]
    },
    {
      "cell_type": "code",
      "metadata": {
        "id": "jTDFGYRwLQAc",
        "outputId": "03a61a34-b5a4-49b1-bcc1-f4ec8f739117",
        "colab": {
          "base_uri": "https://localhost:8080/",
          "height": 301
        }
      },
      "source": [
        "from scipy.stats import mode\n",
        "from datetime import date\n",
        "\n",
        "r = 1 #hyperparameters model 1\n",
        "nh = len(best_hyperpar[0][r])\n",
        "hyperpar_r = np.zeros((Niter,nh)) \n",
        "for i in range(Niter):\n",
        "  for j in range(nh):\n",
        "    hyperpar_r[i,j] = best_hyperpar[i][r].get(list(best_hyperpar[i][r].keys())[j])\n",
        "    \n",
        "    \n",
        "#revisar numero entero para realizar casting\n",
        "aa = list(best_hyperpar[0][r].keys())\n",
        "c = -1\n",
        "for i in range(len(aa)):\n",
        "    if aa[i].find('n_neighbors') > -1:\n",
        "      c = i\n",
        "\n",
        "plt.boxplot(hyperpar_r)\n",
        "plt.xticks(ticks=np.arange(nh)+1,labels=list(best_hyperpar[0][r].keys()))\n",
        "plt.title('Best_hyperparameters '+label_model[r])\n",
        "plt.grid()\n",
        "plt.show()\n",
        "\n",
        "mode_hyper = mode(hyperpar_r,axis=0)[0][0]\n",
        "print(\"Modes= \", mode_hyper)"
      ],
      "execution_count": 257,
      "outputs": [
        {
          "output_type": "display_data",
          "data": {
            "image/png": "[encoded data removed]",
            "text/plain": [
              "<Figure size 432x288 with 1 Axes>"
            ]
          },
          "metadata": {
            "tags": [],
            "needs_background": "light"
          }
        },
        {
          "output_type": "stream",
          "text": [
            "Modes=  [0.1  0.25]\n"
          ],
          "name": "stdout"
        }
      ]
    },
    {
      "cell_type": "markdown",
      "metadata": {
        "id": "33_RKPWkP4ZR"
      },
      "source": [
        "# Modelo definitivo\n",
        "\n",
        "Con los mejores hiperparámetros entreno sobre Xtrain completo el modelo final"
      ]
    },
    {
      "cell_type": "code",
      "metadata": {
        "id": "8Ih7Bz05QE6Y",
        "outputId": "dffdab7f-3398-4b71-a3a1-06ab0858c2ce",
        "colab": {
          "base_uri": "https://localhost:8080/",
          "height": 187
        }
      },
      "source": [
        "r = 1 #camino elastic net\n",
        "steps_final = [('scaler',StandardScaler()),\n",
        "               ('reg',ElasticNet(alpha=0.01,l1_ratio=0))]  \n",
        "         \n",
        "modelo_final = Pipeline(steps_final)\n",
        "modelo_final.fit(Xtrain,ytrain)"
      ],
      "execution_count": 258,
      "outputs": [
        {
          "output_type": "execute_result",
          "data": {
            "text/plain": [
              "Pipeline(memory=None,\n",
              "         steps=[('scaler',\n",
              "                 StandardScaler(copy=True, with_mean=True, with_std=True)),\n",
              "                ('reg',\n",
              "                 ElasticNet(alpha=0.01, copy_X=True, fit_intercept=True,\n",
              "                            l1_ratio=0, max_iter=1000, normalize=False,\n",
              "                            positive=False, precompute=False, random_state=None,\n",
              "                            selection='cyclic', tol=0.0001,\n",
              "                            warm_start=False))],\n",
              "         verbose=False)"
            ]
          },
          "metadata": {
            "tags": []
          },
          "execution_count": 258
        }
      ]
    },
    {
      "cell_type": "markdown",
      "metadata": {
        "id": "kzNUKPj6QY-3"
      },
      "source": [
        "# evaluación datos nuevos para un caso real."
      ]
    },
    {
      "cell_type": "code",
      "metadata": {
        "id": "6J5uWh9TQmrZ"
      },
      "source": [
        "ytest_e = modelo_final.predict(Xtest) #simular casos nuevos"
      ],
      "execution_count": 259,
      "outputs": []
    },
    {
      "cell_type": "code",
      "metadata": {
        "id": "2DHDlWEOQ6ag",
        "outputId": "7da1266d-ac85-4e6c-cfea-3cbe92171ca4",
        "colab": {
          "base_uri": "https://localhost:8080/",
          "height": 34
        }
      },
      "source": [
        "print('MAE_test=', msa(ytest,ytest_e))"
      ],
      "execution_count": 260,
      "outputs": [
        {
          "output_type": "stream",
          "text": [
            "MAE_test= 0.38679346100418\n"
          ],
          "name": "stdout"
        }
      ]
    },
    {
      "cell_type": "code",
      "metadata": {
        "id": "VYWrKDV4Q-fr",
        "outputId": "de7f8546-8ded-477f-ad9b-e3f19227f8ba",
        "colab": {
          "base_uri": "https://localhost:8080/",
          "height": 34
        }
      },
      "source": [
        "pathpre = 'resultados'\n",
        "\n",
        "try:\n",
        "  os.mkdir(pathpre)\n",
        "except:\n",
        "  print(\"Carpeta results ya existe\")"
      ],
      "execution_count": 261,
      "outputs": [
        {
          "output_type": "stream",
          "text": [
            "Carpeta results ya existe\n"
          ],
          "name": "stdout"
        }
      ]
    },
    {
      "cell_type": "code",
      "metadata": {
        "id": "zDzz_rUHRBON",
        "outputId": "1dc61929-707f-4a21-ec96-dcfd3cdc37a5",
        "colab": {
          "base_uri": "https://localhost:8080/",
          "height": 17
        }
      },
      "source": [
        "import shutil\n",
        "from joblib import dump, load\n",
        "from datetime import date, datetime\n",
        "from google.colab import files\n",
        "\n",
        "modelo_final = {'modelo':modelo_final,\n",
        "          'pasos':label_model[1],\n",
        "          'mae_test':msa(ytest,ytest_e),\n",
        "            } \n",
        "\n",
        "dump(modelo_final,'resultados/modelo_final.joblib')\n",
        "namefile = str(datetime.now().strftime(\"%Y_%m_%d_%H_%M_%d\"))+'__modelo'\n",
        "shutil.make_archive(namefile, 'zip', 'resultados')\n",
        "files.download(namefile+'.zip')"
      ],
      "execution_count": 262,
      "outputs": [
        {
          "output_type": "display_data",
          "data": {
            "application/javascript": [
              "\n",
              "    async function download(id, filename, size) {\n",
              "      if (!google.colab.kernel.accessAllowed) {\n",
              "        return;\n",
              "      }\n",
              "      const div = document.createElement('div');\n",
              "      const label = document.createElement('label');\n",
              "      label.textContent = `Downloading \"${filename}\": `;\n",
              "      div.appendChild(label);\n",
              "      const progress = document.createElement('progress');\n",
              "      progress.max = size;\n",
              "      div.appendChild(progress);\n",
              "      document.body.appendChild(div);\n",
              "\n",
              "      const buffers = [];\n",
              "      let downloaded = 0;\n",
              "\n",
              "      const channel = await google.colab.kernel.comms.open(id);\n",
              "      // Send a message to notify the kernel that we're ready.\n",
              "      channel.send({})\n",
              "\n",
              "      for await (const message of channel.messages) {\n",
              "        // Send a message to notify the kernel that we're ready.\n",
              "        channel.send({})\n",
              "        if (message.buffers) {\n",
              "          for (const buffer of message.buffers) {\n",
              "            buffers.push(buffer);\n",
              "            downloaded += buffer.byteLength;\n",
              "            progress.value = downloaded;\n",
              "          }\n",
              "        }\n",
              "      }\n",
              "      const blob = new Blob(buffers, {type: 'application/binary'});\n",
              "      const a = document.createElement('a');\n",
              "      a.href = window.URL.createObjectURL(blob);\n",
              "      a.download = filename;\n",
              "      div.appendChild(a);\n",
              "      a.click();\n",
              "      div.remove();\n",
              "    }\n",
              "  "
            ],
            "text/plain": [
              "<IPython.core.display.Javascript object>"
            ]
          },
          "metadata": {
            "tags": []
          }
        },
        {
          "output_type": "display_data",
          "data": {
            "application/javascript": [
              "download(\"download_c91f79a7-dd62-4aad-9715-bea5ad8251a8\", \"2020_10_17_06_36_17__modelo.zip\", 1399)"
            ],
            "text/plain": [
              "<IPython.core.display.Javascript object>"
            ]
          },
          "metadata": {
            "tags": []
          }
        }
      ]
    },
    {
      "cell_type": "code",
      "metadata": {
        "id": "UFPacVMMRM5L"
      },
      "source": [
        ""
      ],
      "execution_count": 262,
      "outputs": []
    },
    {
      "cell_type": "code",
      "metadata": {
        "id": "7PMBChn3J4cm"
      },
      "source": [
        ""
      ],
      "execution_count": 262,
      "outputs": []
    },
    {
      "cell_type": "code",
      "metadata": {
        "id": "pefB4tG-JUe_"
      },
      "source": [
        ""
      ],
      "execution_count": 262,
      "outputs": []
    },
    {
      "cell_type": "code",
      "metadata": {
        "id": "WxTRGCVSHcdQ"
      },
      "source": [
        ""
      ],
      "execution_count": 262,
      "outputs": []
    }
  ]
}